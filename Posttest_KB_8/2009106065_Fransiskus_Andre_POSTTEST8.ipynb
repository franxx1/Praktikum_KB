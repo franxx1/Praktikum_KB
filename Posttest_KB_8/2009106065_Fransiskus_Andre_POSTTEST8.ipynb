{
  "nbformat": 4,
  "nbformat_minor": 0,
  "metadata": {
    "colab": {
      "provenance": [],
      "collapsed_sections": []
    },
    "kernelspec": {
      "name": "python3",
      "display_name": "Python 3"
    },
    "language_info": {
      "name": "python"
    }
  },
  "cells": [
    {
      "cell_type": "markdown",
      "source": [
        "## Nama : Fransiskus Andre\n",
        "## Nim : 2009106065"
      ],
      "metadata": {
        "id": "sJxcF_ncqD4J"
      }
    },
    {
      "cell_type": "markdown",
      "source": [
        "# Import Library"
      ],
      "metadata": {
        "id": "Kb62x8LUqNkl"
      }
    },
    {
      "cell_type": "code",
      "execution_count": 78,
      "metadata": {
        "id": "p9IDI2DY85j9"
      },
      "outputs": [],
      "source": [
        "import tensorflow as tf\n",
        "import pandas as pd\n",
        "import numpy as np\n",
        "import matplotlib.pyplot as plt\n",
        "from sklearn.model_selection import train_test_split\n",
        "from sklearn.preprocessing import StandardScaler"
      ]
    },
    {
      "cell_type": "markdown",
      "source": [
        "# Read Data"
      ],
      "metadata": {
        "id": "wrv38w_gqQv4"
      }
    },
    {
      "cell_type": "code",
      "source": [
        "df = pd.read_csv('breast-cancer.csv')"
      ],
      "metadata": {
        "id": "f7o5vD8A-dVv"
      },
      "execution_count": 79,
      "outputs": []
    },
    {
      "cell_type": "markdown",
      "source": [
        "# Data prepocessing"
      ],
      "metadata": {
        "id": "vUHRIjy6qYaW"
      }
    },
    {
      "cell_type": "markdown",
      "source": [
        "## Transformai data"
      ],
      "metadata": {
        "id": "hUyNNr3LqgYh"
      }
    },
    {
      "cell_type": "code",
      "source": [
        "df['diagnosis']=df['diagnosis'].replace(['M', 'B'],[1,0])#mentranformasi data "
      ],
      "metadata": {
        "id": "ezBSbp-t_kSZ"
      },
      "execution_count": 80,
      "outputs": []
    },
    {
      "cell_type": "markdown",
      "source": [
        "## Standarisasi data"
      ],
      "metadata": {
        "id": "H5JHRYVtqsbG"
      }
    },
    {
      "cell_type": "code",
      "source": [
        "std_scaler = StandardScaler()"
      ],
      "metadata": {
        "id": "XrQM6YOl_r1M"
      },
      "execution_count": 81,
      "outputs": []
    },
    {
      "cell_type": "markdown",
      "source": [
        "## Split data"
      ],
      "metadata": {
        "id": "2RJEsSiurZoj"
      }
    },
    {
      "cell_type": "code",
      "source": [
        "x_train,x_test,y_train,y_test = train_test_split(X,Y,random_state = True, test_size=.2)#Membagi data untuk data traininf dan data testing"
      ],
      "metadata": {
        "id": "YdtgFBDSGlji"
      },
      "execution_count": 82,
      "outputs": []
    },
    {
      "cell_type": "code",
      "source": [
        "X = df[['radius_mean', 'texture_mean', 'perimeter_mean',\n",
        "       'area_mean', 'smoothness_mean', 'compactness_mean', 'concavity_mean',\n",
        "       'concave points_mean', 'symmetry_mean', 'fractal_dimension_mean',\n",
        "       'radius_se', 'texture_se', 'perimeter_se', 'area_se', 'smoothness_se',\n",
        "       'compactness_se', 'concavity_se', 'concave points_se', 'symmetry_se',\n",
        "       'fractal_dimension_se', 'radius_worst', 'texture_worst',\n",
        "       'perimeter_worst', 'area_worst', 'smoothness_worst',\n",
        "       'compactness_worst', 'concavity_worst', 'concave points_worst',\n",
        "       'symmetry_worst', 'fractal_dimension_worst']]##data\n",
        "Y = df['diagnosis']##label"
      ],
      "metadata": {
        "id": "zH_gm-DOGj_p"
      },
      "execution_count": 83,
      "outputs": []
    },
    {
      "cell_type": "code",
      "source": [
        "from tensorflow.keras.utils import to_categorical\n",
        "from tensorflow.keras.optimizers import Adam\n",
        "from tensorflow.keras.losses import categorical_crossentropy"
      ],
      "metadata": {
        "id": "BiplEivvJbeq"
      },
      "execution_count": 84,
      "outputs": []
    },
    {
      "cell_type": "code",
      "source": [
        "\n",
        "x_scaled_train = std_scaler.fit_transform(x_train)\n",
        "x_scaled_test = std_scaler.fit_transform(x_test)\n",
        "y_train = to_categorical(y_train, 2)\n",
        "y_test = to_categorical(y_test, 2)"
      ],
      "metadata": {
        "id": "zqI5ucmo_scJ"
      },
      "execution_count": 85,
      "outputs": []
    },
    {
      "cell_type": "code",
      "source": [
        "print(f'panjang x train : {len(x_train)}\\n',\n",
        "f'panjang y train : {len(y_train)}\\n',\n",
        "f'panjang x test : {len(x_test)}\\n',\n",
        "f'panjang y test : {len(y_test)}\\n')"
      ],
      "metadata": {
        "colab": {
          "base_uri": "https://localhost:8080/"
        },
        "id": "KEv-Li1TMH6_",
        "outputId": "9fbf025a-c40b-4979-f13c-67ff6efa4930"
      },
      "execution_count": 86,
      "outputs": [
        {
          "output_type": "stream",
          "name": "stdout",
          "text": [
            "panjang x train : 455\n",
            " panjang y train : 455\n",
            " panjang x test : 114\n",
            " panjang y test : 114\n",
            "\n"
          ]
        }
      ]
    },
    {
      "cell_type": "markdown",
      "source": [
        "## Model Data"
      ],
      "metadata": {
        "id": "C_ridvPgrfD7"
      }
    },
    {
      "cell_type": "code",
      "source": [
        "import keras\n",
        "from keras.models import Sequential\n",
        "from keras.layers import Dense, Dropout"
      ],
      "metadata": {
        "id": "WXzmzKmKHGeD"
      },
      "execution_count": 87,
      "outputs": []
    },
    {
      "cell_type": "code",
      "source": [
        "model = Sequential()\n",
        "\n",
        "#Input Layer\n",
        "model.add(Dense(50, activation='relu', input_dim=30))\n",
        "\n",
        "#Hidden Layer\n",
        "model.add(Dense(90, activation='relu'))\n",
        "model.add(Dense(80, activation='relu'))\n",
        "model.add(Dense(70, activation='relu'))\n",
        "model.add(Dense(60, activation='relu'))\n",
        "model.add(Dense(50, activation='relu'))\n",
        "\n",
        "#Output Layer\n",
        "model.add(Dense(2, activation='softmax')) #output layer harus disamakan dengan jumlah class, semakin banyak jumlah neuron semakin kompleks modelnya jadi bisa overfitting\n",
        "\n",
        "model.summary()"
      ],
      "metadata": {
        "colab": {
          "base_uri": "https://localhost:8080/"
        },
        "id": "d5SmC4txHHbS",
        "outputId": "09ae3128-8b8e-41c6-f44b-0ca6fcd2fc2f"
      },
      "execution_count": 88,
      "outputs": [
        {
          "output_type": "stream",
          "name": "stdout",
          "text": [
            "Model: \"sequential_4\"\n",
            "_________________________________________________________________\n",
            " Layer (type)                Output Shape              Param #   \n",
            "=================================================================\n",
            " dense_28 (Dense)            (None, 50)                1550      \n",
            "                                                                 \n",
            " dense_29 (Dense)            (None, 90)                4590      \n",
            "                                                                 \n",
            " dense_30 (Dense)            (None, 80)                7280      \n",
            "                                                                 \n",
            " dense_31 (Dense)            (None, 70)                5670      \n",
            "                                                                 \n",
            " dense_32 (Dense)            (None, 60)                4260      \n",
            "                                                                 \n",
            " dense_33 (Dense)            (None, 50)                3050      \n",
            "                                                                 \n",
            " dense_34 (Dense)            (None, 2)                 102       \n",
            "                                                                 \n",
            "=================================================================\n",
            "Total params: 26,502\n",
            "Trainable params: 26,502\n",
            "Non-trainable params: 0\n",
            "_________________________________________________________________\n"
          ]
        }
      ]
    },
    {
      "cell_type": "code",
      "source": [
        "from tensorflow.keras.callbacks import EarlyStopping\n",
        "\n",
        "# Define a callback to monitor val_accuracy\n",
        "monitor_val_acc = EarlyStopping(monitor='accuracy', #dilihat berdasarkan validasi accuracy atau accuracy saja, tetapi monitor hanya bisa memasukkan 1 saja\n",
        "                                patience=10)#jadi jika di 10 epoch selanjutnya itu tidak berubah maka diberentikan"
      ],
      "metadata": {
        "id": "ai-rQU1ZpJC4"
      },
      "execution_count": 89,
      "outputs": []
    },
    {
      "cell_type": "code",
      "source": [
        "model.compile(\n",
        "    optimizer=Adam(),\n",
        "    loss = categorical_crossentropy,\n",
        "    metrics = ['accuracy']\n",
        ")"
      ],
      "metadata": {
        "id": "wJiSSks1JcZQ"
      },
      "execution_count": 90,
      "outputs": []
    },
    {
      "cell_type": "code",
      "source": [
        "model.fit(\n",
        "    x = x_train, \n",
        "    y = y_train,\n",
        "    validation_data=(x_test,y_test),\n",
        "    epochs=500,\n",
        "    verbose=1,\n",
        "    #  metrics = ['accuracy'],\n",
        "    callbacks=[monitor_val_acc]\n",
        ")"
      ],
      "metadata": {
        "colab": {
          "base_uri": "https://localhost:8080/"
        },
        "id": "SrTCCz8RJqlW",
        "outputId": "1182390e-63f9-4d21-d008-bde4a251889b"
      },
      "execution_count": 91,
      "outputs": [
        {
          "output_type": "stream",
          "name": "stdout",
          "text": [
            "Epoch 1/500\n",
            "15/15 [==============================] - 1s 18ms/step - loss: 7.7063 - accuracy: 0.5319 - val_loss: 0.5245 - val_accuracy: 0.7895\n",
            "Epoch 2/500\n",
            "15/15 [==============================] - 0s 6ms/step - loss: 0.3974 - accuracy: 0.8615 - val_loss: 0.5528 - val_accuracy: 0.7632\n",
            "Epoch 3/500\n",
            "15/15 [==============================] - 0s 6ms/step - loss: 0.3741 - accuracy: 0.8659 - val_loss: 0.8387 - val_accuracy: 0.7456\n",
            "Epoch 4/500\n",
            "15/15 [==============================] - 0s 6ms/step - loss: 0.4160 - accuracy: 0.8615 - val_loss: 0.3708 - val_accuracy: 0.8421\n",
            "Epoch 5/500\n",
            "15/15 [==============================] - 0s 6ms/step - loss: 0.3893 - accuracy: 0.8659 - val_loss: 0.3019 - val_accuracy: 0.9035\n",
            "Epoch 6/500\n",
            "15/15 [==============================] - 0s 5ms/step - loss: 0.2527 - accuracy: 0.9143 - val_loss: 0.4192 - val_accuracy: 0.8070\n",
            "Epoch 7/500\n",
            "15/15 [==============================] - 0s 5ms/step - loss: 0.2891 - accuracy: 0.8967 - val_loss: 0.6696 - val_accuracy: 0.7719\n",
            "Epoch 8/500\n",
            "15/15 [==============================] - 0s 5ms/step - loss: 0.4589 - accuracy: 0.8330 - val_loss: 0.8666 - val_accuracy: 0.7456\n",
            "Epoch 9/500\n",
            "15/15 [==============================] - 0s 6ms/step - loss: 0.4730 - accuracy: 0.8440 - val_loss: 0.3017 - val_accuracy: 0.8684\n",
            "Epoch 10/500\n",
            "15/15 [==============================] - 0s 5ms/step - loss: 0.2677 - accuracy: 0.9099 - val_loss: 0.2516 - val_accuracy: 0.9386\n",
            "Epoch 11/500\n",
            "15/15 [==============================] - 0s 5ms/step - loss: 0.3146 - accuracy: 0.8945 - val_loss: 0.2231 - val_accuracy: 0.9298\n",
            "Epoch 12/500\n",
            "15/15 [==============================] - 0s 5ms/step - loss: 0.2777 - accuracy: 0.8879 - val_loss: 0.3049 - val_accuracy: 0.8421\n",
            "Epoch 13/500\n",
            "15/15 [==============================] - 0s 5ms/step - loss: 0.2089 - accuracy: 0.9209 - val_loss: 0.4348 - val_accuracy: 0.7895\n",
            "Epoch 14/500\n",
            "15/15 [==============================] - 0s 5ms/step - loss: 0.4600 - accuracy: 0.8264 - val_loss: 0.3377 - val_accuracy: 0.8596\n",
            "Epoch 15/500\n",
            "15/15 [==============================] - 0s 6ms/step - loss: 0.2276 - accuracy: 0.9121 - val_loss: 0.2471 - val_accuracy: 0.9123\n",
            "Epoch 16/500\n",
            "15/15 [==============================] - 0s 6ms/step - loss: 0.2659 - accuracy: 0.8901 - val_loss: 0.2210 - val_accuracy: 0.9386\n",
            "Epoch 17/500\n",
            "15/15 [==============================] - 0s 5ms/step - loss: 0.2396 - accuracy: 0.9077 - val_loss: 0.3884 - val_accuracy: 0.8509\n",
            "Epoch 18/500\n",
            "15/15 [==============================] - 0s 5ms/step - loss: 0.2694 - accuracy: 0.8945 - val_loss: 0.5626 - val_accuracy: 0.7807\n",
            "Epoch 19/500\n",
            "15/15 [==============================] - 0s 6ms/step - loss: 0.2746 - accuracy: 0.9055 - val_loss: 0.2236 - val_accuracy: 0.9474\n",
            "Epoch 20/500\n",
            "15/15 [==============================] - 0s 5ms/step - loss: 0.2055 - accuracy: 0.9231 - val_loss: 0.2261 - val_accuracy: 0.9035\n",
            "Epoch 21/500\n",
            "15/15 [==============================] - 0s 5ms/step - loss: 0.2750 - accuracy: 0.9121 - val_loss: 0.2795 - val_accuracy: 0.8947\n",
            "Epoch 22/500\n",
            "15/15 [==============================] - 0s 5ms/step - loss: 0.2496 - accuracy: 0.9077 - val_loss: 0.2249 - val_accuracy: 0.9474\n",
            "Epoch 23/500\n",
            "15/15 [==============================] - 0s 6ms/step - loss: 0.2432 - accuracy: 0.9143 - val_loss: 0.2760 - val_accuracy: 0.8772\n",
            "Epoch 24/500\n",
            "15/15 [==============================] - 0s 5ms/step - loss: 0.2404 - accuracy: 0.9099 - val_loss: 0.1956 - val_accuracy: 0.9298\n",
            "Epoch 25/500\n",
            "15/15 [==============================] - 0s 6ms/step - loss: 0.1943 - accuracy: 0.9275 - val_loss: 0.2021 - val_accuracy: 0.9298\n",
            "Epoch 26/500\n",
            "15/15 [==============================] - 0s 6ms/step - loss: 0.1977 - accuracy: 0.9341 - val_loss: 0.2402 - val_accuracy: 0.8860\n",
            "Epoch 27/500\n",
            "15/15 [==============================] - 0s 5ms/step - loss: 0.1904 - accuracy: 0.9319 - val_loss: 0.2719 - val_accuracy: 0.8684\n",
            "Epoch 28/500\n",
            "15/15 [==============================] - 0s 6ms/step - loss: 0.2836 - accuracy: 0.8813 - val_loss: 0.2357 - val_accuracy: 0.8860\n",
            "Epoch 29/500\n",
            "15/15 [==============================] - 0s 5ms/step - loss: 0.2361 - accuracy: 0.9121 - val_loss: 0.1877 - val_accuracy: 0.9298\n",
            "Epoch 30/500\n",
            "15/15 [==============================] - 0s 6ms/step - loss: 0.2135 - accuracy: 0.9231 - val_loss: 0.4594 - val_accuracy: 0.7982\n",
            "Epoch 31/500\n",
            "15/15 [==============================] - 0s 6ms/step - loss: 0.2845 - accuracy: 0.8967 - val_loss: 0.3929 - val_accuracy: 0.8421\n",
            "Epoch 32/500\n",
            "15/15 [==============================] - 0s 5ms/step - loss: 0.3351 - accuracy: 0.8769 - val_loss: 0.2392 - val_accuracy: 0.9123\n",
            "Epoch 33/500\n",
            "15/15 [==============================] - 0s 6ms/step - loss: 0.2810 - accuracy: 0.8813 - val_loss: 0.2571 - val_accuracy: 0.8772\n",
            "Epoch 34/500\n",
            "15/15 [==============================] - 0s 5ms/step - loss: 0.2923 - accuracy: 0.8769 - val_loss: 0.2126 - val_accuracy: 0.8947\n",
            "Epoch 35/500\n",
            "15/15 [==============================] - 0s 5ms/step - loss: 0.2161 - accuracy: 0.9121 - val_loss: 0.2311 - val_accuracy: 0.8947\n",
            "Epoch 36/500\n",
            "15/15 [==============================] - 0s 6ms/step - loss: 0.1873 - accuracy: 0.9231 - val_loss: 0.2062 - val_accuracy: 0.9474\n"
          ]
        },
        {
          "output_type": "execute_result",
          "data": {
            "text/plain": [
              "<keras.callbacks.History at 0x7fbddb7c7cd0>"
            ]
          },
          "metadata": {},
          "execution_count": 91
        }
      ]
    },
    {
      "cell_type": "markdown",
      "source": [
        "## Akurasi data"
      ],
      "metadata": {
        "id": "_vhKV8oJr3m4"
      }
    },
    {
      "cell_type": "code",
      "source": [
        "score = model.evaluate(x_test, y_test, verbose=0)\n",
        "print('Test loss:', score[0])\n",
        "print('Test accuracy:', score[1])"
      ],
      "metadata": {
        "colab": {
          "base_uri": "https://localhost:8080/"
        },
        "id": "xQlttYmWmUbi",
        "outputId": "ee06151e-8b06-4124-fa74-d206ccbbecc5"
      },
      "execution_count": 92,
      "outputs": [
        {
          "output_type": "stream",
          "name": "stdout",
          "text": [
            "Test loss: 0.2061954140663147\n",
            "Test accuracy: 0.9473684430122375\n"
          ]
        }
      ]
    }
  ]
}