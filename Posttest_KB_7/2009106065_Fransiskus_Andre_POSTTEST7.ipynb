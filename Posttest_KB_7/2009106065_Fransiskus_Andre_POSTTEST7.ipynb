{
  "nbformat": 4,
  "nbformat_minor": 0,
  "metadata": {
    "colab": {
      "provenance": [],
      "collapsed_sections": []
    },
    "kernelspec": {
      "name": "python3",
      "display_name": "Python 3"
    },
    "language_info": {
      "name": "python"
    }
  },
  "cells": [
    {
      "cell_type": "markdown",
      "source": [
        "# NAMA : Fransiskus Andre\n",
        "# NIM  : 20091065\n",
        "# POSTTEST 7"
      ],
      "metadata": {
        "id": "DQrE21_zs5pA"
      }
    },
    {
      "cell_type": "markdown",
      "source": [
        "## Import Library\n"
      ],
      "metadata": {
        "id": "uUn9UpgstHuA"
      }
    },
    {
      "cell_type": "code",
      "execution_count": 17,
      "metadata": {
        "id": "V_rSA6CfZ0KO"
      },
      "outputs": [],
      "source": [
        "import tensorflow as tf"
      ]
    },
    {
      "cell_type": "markdown",
      "source": [
        "## buat tensor random"
      ],
      "metadata": {
        "id": "TFNLXj5HuWOU"
      }
    },
    {
      "cell_type": "code",
      "source": [
        "random_tensor = tf.random.normal([5,5])\n",
        "random_tensor\n",
        "a = random_tensor\n"
      ],
      "metadata": {
        "id": "YalS0geBaQ00"
      },
      "execution_count": 18,
      "outputs": []
    },
    {
      "cell_type": "code",
      "source": [
        "a.shape"
      ],
      "metadata": {
        "colab": {
          "base_uri": "https://localhost:8080/"
        },
        "id": "-Qww4A55vAo8",
        "outputId": "e62c6ed7-00c5-43d5-db20-abb6d6d788f8"
      },
      "execution_count": 19,
      "outputs": [
        {
          "output_type": "execute_result",
          "data": {
            "text/plain": [
              "TensorShape([5, 5])"
            ]
          },
          "metadata": {},
          "execution_count": 19
        }
      ]
    },
    {
      "cell_type": "markdown",
      "source": [
        "## buat tensor untuk bilangan prima"
      ],
      "metadata": {
        "id": "4Nm1Ed2Fuup5"
      }
    },
    {
      "cell_type": "code",
      "source": [
        "prime = [37,43,23,2,7],[3,5,97,131,149],[181,191,193,197,199],[101,103,107,109,113],[127,137,139,149,151]\n",
        "tensor_prime = tf.convert_to_tensor(prime, dtype = tf.float32)\n",
        "b = tensor_prime"
      ],
      "metadata": {
        "id": "SfT7UpzTbbvs"
      },
      "execution_count": 20,
      "outputs": []
    },
    {
      "cell_type": "code",
      "source": [
        "a.shape"
      ],
      "metadata": {
        "colab": {
          "base_uri": "https://localhost:8080/"
        },
        "id": "_SlwWzaGeV8f",
        "outputId": "2705a96c-a0f2-4cab-e724-42aaec4cbdfc"
      },
      "execution_count": 21,
      "outputs": [
        {
          "output_type": "execute_result",
          "data": {
            "text/plain": [
              "TensorShape([5, 5])"
            ]
          },
          "metadata": {},
          "execution_count": 21
        }
      ]
    },
    {
      "cell_type": "code",
      "source": [
        "random_tensor.shape"
      ],
      "metadata": {
        "colab": {
          "base_uri": "https://localhost:8080/"
        },
        "id": "KoaOyVzOeiqW",
        "outputId": "72918402-4293-4927-c3db-3a6e028324a5"
      },
      "execution_count": 22,
      "outputs": [
        {
          "output_type": "execute_result",
          "data": {
            "text/plain": [
              "TensorShape([5, 5])"
            ]
          },
          "metadata": {},
          "execution_count": 22
        }
      ]
    },
    {
      "cell_type": "markdown",
      "source": [
        "## Operasi ada tensor"
      ],
      "metadata": {
        "id": "6ujrpwJivNq8"
      }
    },
    {
      "cell_type": "markdown",
      "source": [
        "### Penjumlahan"
      ],
      "metadata": {
        "id": "azt88gYVvVAb"
      }
    },
    {
      "cell_type": "code",
      "source": [
        "tf.add(a,b)"
      ],
      "metadata": {
        "colab": {
          "base_uri": "https://localhost:8080/"
        },
        "id": "wzKjIxU5er1P",
        "outputId": "a73202e6-08e2-4580-853a-ce4a16460e19"
      },
      "execution_count": 23,
      "outputs": [
        {
          "output_type": "execute_result",
          "data": {
            "text/plain": [
              "<tf.Tensor: shape=(5, 5), dtype=float32, numpy=\n",
              "array([[ 38.757236 ,  41.9793   ,  22.455496 ,   3.7326145,   8.016006 ],\n",
              "       [  2.9325325,   6.237413 ,  98.1977   , 131.09172  , 151.94662  ],\n",
              "       [182.26846  , 192.26698  , 193.49539  , 199.56339  , 199.8975   ],\n",
              "       [100.10746  , 101.851204 , 106.71179  , 107.44209  , 112.94217  ],\n",
              "       [126.937874 , 134.68034  , 140.07144  , 148.3921   , 151.48727  ]],\n",
              "      dtype=float32)>"
            ]
          },
          "metadata": {},
          "execution_count": 23
        }
      ]
    },
    {
      "cell_type": "markdown",
      "source": [
        "### Perpangkatan"
      ],
      "metadata": {
        "id": "G8v4LxnRvgUr"
      }
    },
    {
      "cell_type": "code",
      "source": [
        "tf.pow(a,b)"
      ],
      "metadata": {
        "colab": {
          "base_uri": "https://localhost:8080/"
        },
        "id": "mZIkN4tNfYjk",
        "outputId": "b8135ecf-946b-4914-ada5-8bd8a0af72f3"
      },
      "execution_count": 24,
      "outputs": [
        {
          "output_type": "execute_result",
          "data": {
            "text/plain": [
              "<tf.Tensor: shape=(5, 5), dtype=float32, numpy=\n",
              "array([[ 1.14474304e+09, -2.41329169e+00, -8.47251670e-07,\n",
              "         3.00195312e+00,  1.11757052e+00],\n",
              "       [-3.07102484e-04,  2.90116906e+00,  3.97788880e+07,\n",
              "         0.00000000e+00,             inf],\n",
              "       [ 4.93487372e+18,  4.25969628e+19,  0.00000000e+00,\n",
              "                    inf,  4.51011728e-10],\n",
              "       [-1.03117873e-05, -1.60355450e+06,  0.00000000e+00,\n",
              "        -9.70722330e+20,  0.00000000e+00],\n",
              "       [ 0.00000000e+00,            -inf,  1.46321875e+04,\n",
              "        -6.16318741e-33,  0.00000000e+00]], dtype=float32)>"
            ]
          },
          "metadata": {},
          "execution_count": 24
        }
      ]
    },
    {
      "cell_type": "markdown",
      "source": [
        "### Perkalian"
      ],
      "metadata": {
        "id": "BY01wZVKvj3K"
      }
    },
    {
      "cell_type": "code",
      "source": [
        "tf.multiply(a,b)"
      ],
      "metadata": {
        "colab": {
          "base_uri": "https://localhost:8080/"
        },
        "id": "2rtQPZ6qgpcb",
        "outputId": "daca7f45-26a8-4ee8-b536-45575709e740"
      },
      "execution_count": 25,
      "outputs": [
        {
          "output_type": "execute_result",
          "data": {
            "text/plain": [
              "<tf.Tensor: shape=(5, 5), dtype=float32, numpy=\n",
              "array([[ 6.50177078e+01, -4.38900795e+01, -1.25235767e+01,\n",
              "         3.46522903e+00,  7.11204433e+00],\n",
              "       [-2.02402413e-01,  6.18706417e+00,  1.16176605e+02,\n",
              "         1.20144444e+01,  4.39047546e+02],\n",
              "       [ 2.29591782e+02,  2.41994217e+02,  9.56099319e+01,\n",
              "         5.04987305e+02,  1.78603180e+02],\n",
              "       [-9.01464081e+01, -1.18326157e+02, -3.08380661e+01,\n",
              "        -1.69812103e+02, -6.53461075e+00],\n",
              "       [-7.89040947e+00, -3.17793427e+02,  1.48929611e+02,\n",
              "        -9.05754395e+01,  7.35776443e+01]], dtype=float32)>"
            ]
          },
          "metadata": {},
          "execution_count": 25
        }
      ]
    },
    {
      "cell_type": "markdown",
      "source": [
        "### Pembagian"
      ],
      "metadata": {
        "id": "DvHdV6GYvouV"
      }
    },
    {
      "cell_type": "code",
      "source": [
        "tf.divide(a,b)"
      ],
      "metadata": {
        "colab": {
          "base_uri": "https://localhost:8080/"
        },
        "id": "kO7crGMDguHW",
        "outputId": "e8610c3a-b4d3-4337-efd3-d97084d8cb56"
      },
      "execution_count": 26,
      "outputs": [
        {
          "output_type": "execute_result",
          "data": {
            "text/plain": [
              "<tf.Tensor: shape=(5, 5), dtype=float32, numpy=\n",
              "array([[ 4.7492851e-02, -2.3737198e-02, -2.3674058e-02,  8.6630726e-01,\n",
              "         1.4514376e-01],\n",
              "       [-2.2489158e-02,  2.4748257e-01,  1.2347391e-02,  7.0010166e-04,\n",
              "         1.9776026e-02],\n",
              "       [ 7.0080822e-03,  6.6334317e-03,  2.5667783e-03,  1.3012119e-02,\n",
              "         4.5100674e-03],\n",
              "       [-8.8370172e-03, -1.1153375e-02, -2.6935160e-03, -1.4292746e-02,\n",
              "        -5.1175588e-04],\n",
              "       [-4.8920634e-04, -1.6931824e-02,  7.7081728e-03, -4.0797913e-03,\n",
              "         3.2269482e-03]], dtype=float32)>"
            ]
          },
          "metadata": {},
          "execution_count": 26
        }
      ]
    },
    {
      "cell_type": "markdown",
      "source": [
        "### logaritma"
      ],
      "metadata": {
        "id": "gL2HD0b4vtmN"
      }
    },
    {
      "cell_type": "code",
      "source": [
        "tf.math.log(a,b)"
      ],
      "metadata": {
        "colab": {
          "base_uri": "https://localhost:8080/"
        },
        "id": "bXQnB0uIguEN",
        "outputId": "9848ae1c-aaf0-421a-a730-3ace1a08fd58"
      },
      "execution_count": 27,
      "outputs": [
        {
          "output_type": "execute_result",
          "data": {
            "text/plain": [
              "<tf.Tensor: shape=(5, 5), dtype=float32, numpy=\n",
              "array([[ 0.5637418 ,         nan,         nan,  0.54963154,  0.0158796 ],\n",
              "       [        nan,  0.21302274,  0.18040048, -2.3890877 ,  1.0806614 ],\n",
              "       [ 0.23780583,  0.2366404 , -0.7024135 ,  0.9413296 , -0.10813833],\n",
              "       [        nan,         nan,         nan,         nan,         nan],\n",
              "       [        nan,         nan,  0.06899985,         nan, -0.7189385 ]],\n",
              "      dtype=float32)>"
            ]
          },
          "metadata": {},
          "execution_count": 27
        }
      ]
    },
    {
      "cell_type": "code",
      "source": [],
      "metadata": {
        "id": "qgpWRZsLv2yD"
      },
      "execution_count": 27,
      "outputs": []
    },
    {
      "cell_type": "markdown",
      "source": [
        "### Min Max"
      ],
      "metadata": {
        "id": "dpxt826fvzuJ"
      }
    },
    {
      "cell_type": "code",
      "source": [
        "min_column = tf.argmin(a,axis = 0)\n",
        "max_column = tf.argmax(a,axis = 0)\n",
        "max_row = tf.argmax(a,axis = 1)\n",
        "min_row = tf.argmin(a,axis = 0)\n",
        "print(\"nilai minimal kolom : \", min_column)\n",
        "print(\"nilai maximal kolom :\", max_column)\n",
        "print(\"nilai minimal baris : \", min_row)\n",
        "print(\"nilai maximal baris :\", max_row)"
      ],
      "metadata": {
        "colab": {
          "base_uri": "https://localhost:8080/"
        },
        "id": "jDB_qHy_hZvA",
        "outputId": "35ca95b1-8e19-45ba-b57e-68812e311d05"
      },
      "execution_count": 28,
      "outputs": [
        {
          "output_type": "stream",
          "name": "stdout",
          "text": [
            "nilai minimal kolom :  tf.Tensor([3 4 0 3 3], shape=(5,), dtype=int64)\n",
            "nilai maximal kolom : tf.Tensor([0 2 1 2 1], shape=(5,), dtype=int64)\n",
            "nilai minimal baris :  tf.Tensor([3 4 0 3 3], shape=(5,), dtype=int64)\n",
            "nilai maximal baris : tf.Tensor([0 4 3 4 2], shape=(5,), dtype=int64)\n"
          ]
        }
      ]
    },
    {
      "cell_type": "markdown",
      "source": [
        "### Penggabungan"
      ],
      "metadata": {
        "id": "dyBsK0xuv5Q8"
      }
    },
    {
      "cell_type": "code",
      "source": [
        "tf_gabung = tf.concat([a,b],axis = 0)\n",
        "tf_gabung"
      ],
      "metadata": {
        "colab": {
          "base_uri": "https://localhost:8080/"
        },
        "id": "Dnp76bU5iSQi",
        "outputId": "84e37d0a-b350-42a5-9a7e-2e545f96fea7"
      },
      "execution_count": 29,
      "outputs": [
        {
          "output_type": "execute_result",
          "data": {
            "text/plain": [
              "<tf.Tensor: shape=(10, 5), dtype=float32, numpy=\n",
              "array([[ 1.7572354e+00, -1.0206995e+00, -5.4450333e-01,  1.7326145e+00,\n",
              "         1.0160064e+00],\n",
              "       [-6.7467473e-02,  1.2374128e+00,  1.1976969e+00,  9.1713317e-02,\n",
              "         2.9466279e+00],\n",
              "       [ 1.2684629e+00,  1.2669854e+00,  4.9538824e-01,  2.5633874e+00,\n",
              "         8.9750344e-01],\n",
              "       [-8.9253873e-01, -1.1487976e+00, -2.8820622e-01, -1.5579093e+00,\n",
              "        -5.7828415e-02],\n",
              "       [-6.2129207e-02, -2.3196599e+00,  1.0714360e+00, -6.0788888e-01,\n",
              "         4.8726919e-01],\n",
              "       [ 3.7000000e+01,  4.3000000e+01,  2.3000000e+01,  2.0000000e+00,\n",
              "         7.0000000e+00],\n",
              "       [ 3.0000000e+00,  5.0000000e+00,  9.7000000e+01,  1.3100000e+02,\n",
              "         1.4900000e+02],\n",
              "       [ 1.8100000e+02,  1.9100000e+02,  1.9300000e+02,  1.9700000e+02,\n",
              "         1.9900000e+02],\n",
              "       [ 1.0100000e+02,  1.0300000e+02,  1.0700000e+02,  1.0900000e+02,\n",
              "         1.1300000e+02],\n",
              "       [ 1.2700000e+02,  1.3700000e+02,  1.3900000e+02,  1.4900000e+02,\n",
              "         1.5100000e+02]], dtype=float32)>"
            ]
          },
          "metadata": {},
          "execution_count": 29
        }
      ]
    },
    {
      "cell_type": "markdown",
      "source": [
        "### Sorting"
      ],
      "metadata": {
        "id": "Ygq89wBDv8Kx"
      }
    },
    {
      "cell_type": "code",
      "source": [
        "tf_sort = tf.argsort(tf_gabung,direction=\"DESCENDING\")\n",
        "tf_sort"
      ],
      "metadata": {
        "colab": {
          "base_uri": "https://localhost:8080/"
        },
        "id": "cItlICJHjAEs",
        "outputId": "d20fdc1a-ebad-4479-b3b2-170f87b2766e"
      },
      "execution_count": 30,
      "outputs": [
        {
          "output_type": "execute_result",
          "data": {
            "text/plain": [
              "<tf.Tensor: shape=(10, 5), dtype=int32, numpy=\n",
              "array([[0, 3, 4, 2, 1],\n",
              "       [4, 1, 2, 3, 0],\n",
              "       [3, 0, 1, 4, 2],\n",
              "       [4, 2, 0, 1, 3],\n",
              "       [2, 4, 0, 3, 1],\n",
              "       [1, 0, 2, 4, 3],\n",
              "       [4, 3, 2, 1, 0],\n",
              "       [4, 3, 2, 1, 0],\n",
              "       [4, 3, 2, 1, 0],\n",
              "       [4, 3, 2, 1, 0]], dtype=int32)>"
            ]
          },
          "metadata": {},
          "execution_count": 30
        }
      ]
    }
  ]
}