{
  "nbformat": 4,
  "nbformat_minor": 0,
  "metadata": {
    "colab": {
      "provenance": [],
      "collapsed_sections": []
    },
    "kernelspec": {
      "name": "python3",
      "display_name": "Python 3"
    },
    "language_info": {
      "name": "python"
    }
  },
  "cells": [
    {
      "cell_type": "markdown",
      "source": [
        "# POSTTEST 5\n",
        "##### NAMA : FRANSISKUS ANDRE\n",
        "##### NIM  : 2009106065"
      ],
      "metadata": {
        "id": "W5sNSOclypx6"
      }
    },
    {
      "cell_type": "markdown",
      "source": [
        "# IMPORT LIBRARY"
      ],
      "metadata": {
        "id": "BfrZ25KxIFyw"
      }
    },
    {
      "cell_type": "code",
      "source": [
        "import numpy as np\n",
        "import pandas as pd\n",
        "from sklearn.model_selection import train_test_split\n",
        "from sklearn.preprocessing import MinMaxScaler\n",
        "from sklearn.preprocessing import StandardScaler\n",
        "from sklearn.naive_bayes import GaussianNB\n",
        "from sklearn.svm import SVC\n",
        "from sklearn.metrics import accuracy_score\n",
        "from sklearn.neighbors import KNeighborsClassifier\n",
        "import seaborn as sns\n",
        "import matplotlib.pyplot as plt"
      ],
      "metadata": {
        "id": "e9-mW3J5ybAK"
      },
      "execution_count": 1,
      "outputs": []
    },
    {
      "cell_type": "markdown",
      "source": [
        "# Read Data"
      ],
      "metadata": {
        "id": "pc1JHkgfzrQS"
      }
    },
    {
      "cell_type": "code",
      "source": [
        "# from google.colab import drive\n",
        "# drive.mount('/content/drive')"
      ],
      "metadata": {
        "id": "B4zf-bdtyrEv"
      },
      "execution_count": 2,
      "outputs": []
    },
    {
      "cell_type": "code",
      "source": [
        "#df = pd.read_csv('/content/drive/MyDrive/breast-cancer.csv')"
      ],
      "metadata": {
        "id": "uUDHzF3Wz0dM"
      },
      "execution_count": 3,
      "outputs": []
    },
    {
      "cell_type": "code",
      "source": [
        "df = pd.read_csv('breast-cancer.csv')"
      ],
      "metadata": {
        "id": "ALo4xP-nzc2M"
      },
      "execution_count": 4,
      "outputs": []
    },
    {
      "cell_type": "code",
      "source": [
        "df.head(10)"
      ],
      "metadata": {
        "id": "Icvbg5O1O-qz",
        "colab": {
          "base_uri": "https://localhost:8080/",
          "height": 474
        },
        "outputId": "33af3e3a-e9a6-4974-b414-ee762d06b3db"
      },
      "execution_count": 5,
      "outputs": [
        {
          "output_type": "execute_result",
          "data": {
            "text/plain": [
              "         id diagnosis  radius_mean  texture_mean  perimeter_mean  area_mean  \\\n",
              "0    842302         M        17.99         10.38          122.80     1001.0   \n",
              "1    842517         M        20.57         17.77          132.90     1326.0   \n",
              "2  84300903         M        19.69         21.25          130.00     1203.0   \n",
              "3  84348301         M        11.42         20.38           77.58      386.1   \n",
              "4  84358402         M        20.29         14.34          135.10     1297.0   \n",
              "5    843786         M        12.45         15.70           82.57      477.1   \n",
              "6    844359         M        18.25         19.98          119.60     1040.0   \n",
              "7  84458202         M        13.71         20.83           90.20      577.9   \n",
              "8    844981         M        13.00         21.82           87.50      519.8   \n",
              "9  84501001         M        12.46         24.04           83.97      475.9   \n",
              "\n",
              "   smoothness_mean  compactness_mean  concavity_mean  concave points_mean  \\\n",
              "0          0.11840           0.27760         0.30010              0.14710   \n",
              "1          0.08474           0.07864         0.08690              0.07017   \n",
              "2          0.10960           0.15990         0.19740              0.12790   \n",
              "3          0.14250           0.28390         0.24140              0.10520   \n",
              "4          0.10030           0.13280         0.19800              0.10430   \n",
              "5          0.12780           0.17000         0.15780              0.08089   \n",
              "6          0.09463           0.10900         0.11270              0.07400   \n",
              "7          0.11890           0.16450         0.09366              0.05985   \n",
              "8          0.12730           0.19320         0.18590              0.09353   \n",
              "9          0.11860           0.23960         0.22730              0.08543   \n",
              "\n",
              "   ...  radius_worst  texture_worst  perimeter_worst  area_worst  \\\n",
              "0  ...         25.38          17.33           184.60      2019.0   \n",
              "1  ...         24.99          23.41           158.80      1956.0   \n",
              "2  ...         23.57          25.53           152.50      1709.0   \n",
              "3  ...         14.91          26.50            98.87       567.7   \n",
              "4  ...         22.54          16.67           152.20      1575.0   \n",
              "5  ...         15.47          23.75           103.40       741.6   \n",
              "6  ...         22.88          27.66           153.20      1606.0   \n",
              "7  ...         17.06          28.14           110.60       897.0   \n",
              "8  ...         15.49          30.73           106.20       739.3   \n",
              "9  ...         15.09          40.68            97.65       711.4   \n",
              "\n",
              "   smoothness_worst  compactness_worst  concavity_worst  concave points_worst  \\\n",
              "0            0.1622             0.6656           0.7119                0.2654   \n",
              "1            0.1238             0.1866           0.2416                0.1860   \n",
              "2            0.1444             0.4245           0.4504                0.2430   \n",
              "3            0.2098             0.8663           0.6869                0.2575   \n",
              "4            0.1374             0.2050           0.4000                0.1625   \n",
              "5            0.1791             0.5249           0.5355                0.1741   \n",
              "6            0.1442             0.2576           0.3784                0.1932   \n",
              "7            0.1654             0.3682           0.2678                0.1556   \n",
              "8            0.1703             0.5401           0.5390                0.2060   \n",
              "9            0.1853             1.0580           1.1050                0.2210   \n",
              "\n",
              "   symmetry_worst  fractal_dimension_worst  \n",
              "0          0.4601                  0.11890  \n",
              "1          0.2750                  0.08902  \n",
              "2          0.3613                  0.08758  \n",
              "3          0.6638                  0.17300  \n",
              "4          0.2364                  0.07678  \n",
              "5          0.3985                  0.12440  \n",
              "6          0.3063                  0.08368  \n",
              "7          0.3196                  0.11510  \n",
              "8          0.4378                  0.10720  \n",
              "9          0.4366                  0.20750  \n",
              "\n",
              "[10 rows x 32 columns]"
            ],
            "text/html": [
              "\n",
              "  <div id=\"df-8ec53607-f657-4ddb-8ba4-aed4bcee86c8\">\n",
              "    <div class=\"colab-df-container\">\n",
              "      <div>\n",
              "<style scoped>\n",
              "    .dataframe tbody tr th:only-of-type {\n",
              "        vertical-align: middle;\n",
              "    }\n",
              "\n",
              "    .dataframe tbody tr th {\n",
              "        vertical-align: top;\n",
              "    }\n",
              "\n",
              "    .dataframe thead th {\n",
              "        text-align: right;\n",
              "    }\n",
              "</style>\n",
              "<table border=\"1\" class=\"dataframe\">\n",
              "  <thead>\n",
              "    <tr style=\"text-align: right;\">\n",
              "      <th></th>\n",
              "      <th>id</th>\n",
              "      <th>diagnosis</th>\n",
              "      <th>radius_mean</th>\n",
              "      <th>texture_mean</th>\n",
              "      <th>perimeter_mean</th>\n",
              "      <th>area_mean</th>\n",
              "      <th>smoothness_mean</th>\n",
              "      <th>compactness_mean</th>\n",
              "      <th>concavity_mean</th>\n",
              "      <th>concave points_mean</th>\n",
              "      <th>...</th>\n",
              "      <th>radius_worst</th>\n",
              "      <th>texture_worst</th>\n",
              "      <th>perimeter_worst</th>\n",
              "      <th>area_worst</th>\n",
              "      <th>smoothness_worst</th>\n",
              "      <th>compactness_worst</th>\n",
              "      <th>concavity_worst</th>\n",
              "      <th>concave points_worst</th>\n",
              "      <th>symmetry_worst</th>\n",
              "      <th>fractal_dimension_worst</th>\n",
              "    </tr>\n",
              "  </thead>\n",
              "  <tbody>\n",
              "    <tr>\n",
              "      <th>0</th>\n",
              "      <td>842302</td>\n",
              "      <td>M</td>\n",
              "      <td>17.99</td>\n",
              "      <td>10.38</td>\n",
              "      <td>122.80</td>\n",
              "      <td>1001.0</td>\n",
              "      <td>0.11840</td>\n",
              "      <td>0.27760</td>\n",
              "      <td>0.30010</td>\n",
              "      <td>0.14710</td>\n",
              "      <td>...</td>\n",
              "      <td>25.38</td>\n",
              "      <td>17.33</td>\n",
              "      <td>184.60</td>\n",
              "      <td>2019.0</td>\n",
              "      <td>0.1622</td>\n",
              "      <td>0.6656</td>\n",
              "      <td>0.7119</td>\n",
              "      <td>0.2654</td>\n",
              "      <td>0.4601</td>\n",
              "      <td>0.11890</td>\n",
              "    </tr>\n",
              "    <tr>\n",
              "      <th>1</th>\n",
              "      <td>842517</td>\n",
              "      <td>M</td>\n",
              "      <td>20.57</td>\n",
              "      <td>17.77</td>\n",
              "      <td>132.90</td>\n",
              "      <td>1326.0</td>\n",
              "      <td>0.08474</td>\n",
              "      <td>0.07864</td>\n",
              "      <td>0.08690</td>\n",
              "      <td>0.07017</td>\n",
              "      <td>...</td>\n",
              "      <td>24.99</td>\n",
              "      <td>23.41</td>\n",
              "      <td>158.80</td>\n",
              "      <td>1956.0</td>\n",
              "      <td>0.1238</td>\n",
              "      <td>0.1866</td>\n",
              "      <td>0.2416</td>\n",
              "      <td>0.1860</td>\n",
              "      <td>0.2750</td>\n",
              "      <td>0.08902</td>\n",
              "    </tr>\n",
              "    <tr>\n",
              "      <th>2</th>\n",
              "      <td>84300903</td>\n",
              "      <td>M</td>\n",
              "      <td>19.69</td>\n",
              "      <td>21.25</td>\n",
              "      <td>130.00</td>\n",
              "      <td>1203.0</td>\n",
              "      <td>0.10960</td>\n",
              "      <td>0.15990</td>\n",
              "      <td>0.19740</td>\n",
              "      <td>0.12790</td>\n",
              "      <td>...</td>\n",
              "      <td>23.57</td>\n",
              "      <td>25.53</td>\n",
              "      <td>152.50</td>\n",
              "      <td>1709.0</td>\n",
              "      <td>0.1444</td>\n",
              "      <td>0.4245</td>\n",
              "      <td>0.4504</td>\n",
              "      <td>0.2430</td>\n",
              "      <td>0.3613</td>\n",
              "      <td>0.08758</td>\n",
              "    </tr>\n",
              "    <tr>\n",
              "      <th>3</th>\n",
              "      <td>84348301</td>\n",
              "      <td>M</td>\n",
              "      <td>11.42</td>\n",
              "      <td>20.38</td>\n",
              "      <td>77.58</td>\n",
              "      <td>386.1</td>\n",
              "      <td>0.14250</td>\n",
              "      <td>0.28390</td>\n",
              "      <td>0.24140</td>\n",
              "      <td>0.10520</td>\n",
              "      <td>...</td>\n",
              "      <td>14.91</td>\n",
              "      <td>26.50</td>\n",
              "      <td>98.87</td>\n",
              "      <td>567.7</td>\n",
              "      <td>0.2098</td>\n",
              "      <td>0.8663</td>\n",
              "      <td>0.6869</td>\n",
              "      <td>0.2575</td>\n",
              "      <td>0.6638</td>\n",
              "      <td>0.17300</td>\n",
              "    </tr>\n",
              "    <tr>\n",
              "      <th>4</th>\n",
              "      <td>84358402</td>\n",
              "      <td>M</td>\n",
              "      <td>20.29</td>\n",
              "      <td>14.34</td>\n",
              "      <td>135.10</td>\n",
              "      <td>1297.0</td>\n",
              "      <td>0.10030</td>\n",
              "      <td>0.13280</td>\n",
              "      <td>0.19800</td>\n",
              "      <td>0.10430</td>\n",
              "      <td>...</td>\n",
              "      <td>22.54</td>\n",
              "      <td>16.67</td>\n",
              "      <td>152.20</td>\n",
              "      <td>1575.0</td>\n",
              "      <td>0.1374</td>\n",
              "      <td>0.2050</td>\n",
              "      <td>0.4000</td>\n",
              "      <td>0.1625</td>\n",
              "      <td>0.2364</td>\n",
              "      <td>0.07678</td>\n",
              "    </tr>\n",
              "    <tr>\n",
              "      <th>5</th>\n",
              "      <td>843786</td>\n",
              "      <td>M</td>\n",
              "      <td>12.45</td>\n",
              "      <td>15.70</td>\n",
              "      <td>82.57</td>\n",
              "      <td>477.1</td>\n",
              "      <td>0.12780</td>\n",
              "      <td>0.17000</td>\n",
              "      <td>0.15780</td>\n",
              "      <td>0.08089</td>\n",
              "      <td>...</td>\n",
              "      <td>15.47</td>\n",
              "      <td>23.75</td>\n",
              "      <td>103.40</td>\n",
              "      <td>741.6</td>\n",
              "      <td>0.1791</td>\n",
              "      <td>0.5249</td>\n",
              "      <td>0.5355</td>\n",
              "      <td>0.1741</td>\n",
              "      <td>0.3985</td>\n",
              "      <td>0.12440</td>\n",
              "    </tr>\n",
              "    <tr>\n",
              "      <th>6</th>\n",
              "      <td>844359</td>\n",
              "      <td>M</td>\n",
              "      <td>18.25</td>\n",
              "      <td>19.98</td>\n",
              "      <td>119.60</td>\n",
              "      <td>1040.0</td>\n",
              "      <td>0.09463</td>\n",
              "      <td>0.10900</td>\n",
              "      <td>0.11270</td>\n",
              "      <td>0.07400</td>\n",
              "      <td>...</td>\n",
              "      <td>22.88</td>\n",
              "      <td>27.66</td>\n",
              "      <td>153.20</td>\n",
              "      <td>1606.0</td>\n",
              "      <td>0.1442</td>\n",
              "      <td>0.2576</td>\n",
              "      <td>0.3784</td>\n",
              "      <td>0.1932</td>\n",
              "      <td>0.3063</td>\n",
              "      <td>0.08368</td>\n",
              "    </tr>\n",
              "    <tr>\n",
              "      <th>7</th>\n",
              "      <td>84458202</td>\n",
              "      <td>M</td>\n",
              "      <td>13.71</td>\n",
              "      <td>20.83</td>\n",
              "      <td>90.20</td>\n",
              "      <td>577.9</td>\n",
              "      <td>0.11890</td>\n",
              "      <td>0.16450</td>\n",
              "      <td>0.09366</td>\n",
              "      <td>0.05985</td>\n",
              "      <td>...</td>\n",
              "      <td>17.06</td>\n",
              "      <td>28.14</td>\n",
              "      <td>110.60</td>\n",
              "      <td>897.0</td>\n",
              "      <td>0.1654</td>\n",
              "      <td>0.3682</td>\n",
              "      <td>0.2678</td>\n",
              "      <td>0.1556</td>\n",
              "      <td>0.3196</td>\n",
              "      <td>0.11510</td>\n",
              "    </tr>\n",
              "    <tr>\n",
              "      <th>8</th>\n",
              "      <td>844981</td>\n",
              "      <td>M</td>\n",
              "      <td>13.00</td>\n",
              "      <td>21.82</td>\n",
              "      <td>87.50</td>\n",
              "      <td>519.8</td>\n",
              "      <td>0.12730</td>\n",
              "      <td>0.19320</td>\n",
              "      <td>0.18590</td>\n",
              "      <td>0.09353</td>\n",
              "      <td>...</td>\n",
              "      <td>15.49</td>\n",
              "      <td>30.73</td>\n",
              "      <td>106.20</td>\n",
              "      <td>739.3</td>\n",
              "      <td>0.1703</td>\n",
              "      <td>0.5401</td>\n",
              "      <td>0.5390</td>\n",
              "      <td>0.2060</td>\n",
              "      <td>0.4378</td>\n",
              "      <td>0.10720</td>\n",
              "    </tr>\n",
              "    <tr>\n",
              "      <th>9</th>\n",
              "      <td>84501001</td>\n",
              "      <td>M</td>\n",
              "      <td>12.46</td>\n",
              "      <td>24.04</td>\n",
              "      <td>83.97</td>\n",
              "      <td>475.9</td>\n",
              "      <td>0.11860</td>\n",
              "      <td>0.23960</td>\n",
              "      <td>0.22730</td>\n",
              "      <td>0.08543</td>\n",
              "      <td>...</td>\n",
              "      <td>15.09</td>\n",
              "      <td>40.68</td>\n",
              "      <td>97.65</td>\n",
              "      <td>711.4</td>\n",
              "      <td>0.1853</td>\n",
              "      <td>1.0580</td>\n",
              "      <td>1.1050</td>\n",
              "      <td>0.2210</td>\n",
              "      <td>0.4366</td>\n",
              "      <td>0.20750</td>\n",
              "    </tr>\n",
              "  </tbody>\n",
              "</table>\n",
              "<p>10 rows × 32 columns</p>\n",
              "</div>\n",
              "      <button class=\"colab-df-convert\" onclick=\"convertToInteractive('df-8ec53607-f657-4ddb-8ba4-aed4bcee86c8')\"\n",
              "              title=\"Convert this dataframe to an interactive table.\"\n",
              "              style=\"display:none;\">\n",
              "        \n",
              "  <svg xmlns=\"http://www.w3.org/2000/svg\" height=\"24px\"viewBox=\"0 0 24 24\"\n",
              "       width=\"24px\">\n",
              "    <path d=\"M0 0h24v24H0V0z\" fill=\"none\"/>\n",
              "    <path d=\"M18.56 5.44l.94 2.06.94-2.06 2.06-.94-2.06-.94-.94-2.06-.94 2.06-2.06.94zm-11 1L8.5 8.5l.94-2.06 2.06-.94-2.06-.94L8.5 2.5l-.94 2.06-2.06.94zm10 10l.94 2.06.94-2.06 2.06-.94-2.06-.94-.94-2.06-.94 2.06-2.06.94z\"/><path d=\"M17.41 7.96l-1.37-1.37c-.4-.4-.92-.59-1.43-.59-.52 0-1.04.2-1.43.59L10.3 9.45l-7.72 7.72c-.78.78-.78 2.05 0 2.83L4 21.41c.39.39.9.59 1.41.59.51 0 1.02-.2 1.41-.59l7.78-7.78 2.81-2.81c.8-.78.8-2.07 0-2.86zM5.41 20L4 18.59l7.72-7.72 1.47 1.35L5.41 20z\"/>\n",
              "  </svg>\n",
              "      </button>\n",
              "      \n",
              "  <style>\n",
              "    .colab-df-container {\n",
              "      display:flex;\n",
              "      flex-wrap:wrap;\n",
              "      gap: 12px;\n",
              "    }\n",
              "\n",
              "    .colab-df-convert {\n",
              "      background-color: #E8F0FE;\n",
              "      border: none;\n",
              "      border-radius: 50%;\n",
              "      cursor: pointer;\n",
              "      display: none;\n",
              "      fill: #1967D2;\n",
              "      height: 32px;\n",
              "      padding: 0 0 0 0;\n",
              "      width: 32px;\n",
              "    }\n",
              "\n",
              "    .colab-df-convert:hover {\n",
              "      background-color: #E2EBFA;\n",
              "      box-shadow: 0px 1px 2px rgba(60, 64, 67, 0.3), 0px 1px 3px 1px rgba(60, 64, 67, 0.15);\n",
              "      fill: #174EA6;\n",
              "    }\n",
              "\n",
              "    [theme=dark] .colab-df-convert {\n",
              "      background-color: #3B4455;\n",
              "      fill: #D2E3FC;\n",
              "    }\n",
              "\n",
              "    [theme=dark] .colab-df-convert:hover {\n",
              "      background-color: #434B5C;\n",
              "      box-shadow: 0px 1px 3px 1px rgba(0, 0, 0, 0.15);\n",
              "      filter: drop-shadow(0px 1px 2px rgba(0, 0, 0, 0.3));\n",
              "      fill: #FFFFFF;\n",
              "    }\n",
              "  </style>\n",
              "\n",
              "      <script>\n",
              "        const buttonEl =\n",
              "          document.querySelector('#df-8ec53607-f657-4ddb-8ba4-aed4bcee86c8 button.colab-df-convert');\n",
              "        buttonEl.style.display =\n",
              "          google.colab.kernel.accessAllowed ? 'block' : 'none';\n",
              "\n",
              "        async function convertToInteractive(key) {\n",
              "          const element = document.querySelector('#df-8ec53607-f657-4ddb-8ba4-aed4bcee86c8');\n",
              "          const dataTable =\n",
              "            await google.colab.kernel.invokeFunction('convertToInteractive',\n",
              "                                                     [key], {});\n",
              "          if (!dataTable) return;\n",
              "\n",
              "          const docLinkHtml = 'Like what you see? Visit the ' +\n",
              "            '<a target=\"_blank\" href=https://colab.research.google.com/notebooks/data_table.ipynb>data table notebook</a>'\n",
              "            + ' to learn more about interactive tables.';\n",
              "          element.innerHTML = '';\n",
              "          dataTable['output_type'] = 'display_data';\n",
              "          await google.colab.output.renderOutput(dataTable, element);\n",
              "          const docLink = document.createElement('div');\n",
              "          docLink.innerHTML = docLinkHtml;\n",
              "          element.appendChild(docLink);\n",
              "        }\n",
              "      </script>\n",
              "    </div>\n",
              "  </div>\n",
              "  "
            ]
          },
          "metadata": {},
          "execution_count": 5
        }
      ]
    },
    {
      "cell_type": "markdown",
      "source": [
        "# DATA PREPOCESSING"
      ],
      "metadata": {
        "id": "uZem2GXLJOtG"
      }
    },
    {
      "cell_type": "markdown",
      "source": [
        "##Transformasi Data"
      ],
      "metadata": {
        "id": "tBOnfW-NxDsE"
      }
    },
    {
      "cell_type": "code",
      "source": [
        "df['diagnosis']=df['diagnosis'].replace(['M', 'B'],[1,0])#mentranformasi data "
      ],
      "metadata": {
        "id": "9WPCIVrFBOZ4"
      },
      "execution_count": 11,
      "outputs": []
    },
    {
      "cell_type": "markdown",
      "source": [
        "## STANDARISASI DATA"
      ],
      "metadata": {
        "id": "icHKTBJr4jXM"
      }
    },
    {
      "cell_type": "markdown",
      "source": [
        "#### Membuat variabel  untuk normalisasi data"
      ],
      "metadata": {
        "id": "BwIkwv024x3h"
      }
    },
    {
      "cell_type": "code",
      "source": [
        "std_scaler = StandardScaler()"
      ],
      "metadata": {
        "id": "KtnZZMAU4hOe"
      },
      "execution_count": 12,
      "outputs": []
    },
    {
      "cell_type": "markdown",
      "source": [
        "#### Standrarisasi data dan menampilkan hasil standarisasi"
      ],
      "metadata": {
        "id": "gWNa63Iw5Wlb"
      }
    },
    {
      "cell_type": "code",
      "source": [
        "standarisasi = std_scaler.fit_transform(df[df.columns.difference(['id','diagnosis'])])\n",
        "df[df.columns.difference(['id','diagnosis'])] = standarisasi\n",
        "print(\"Nilai standar deviasi setelah scaling:\", np.nanstd(standarisasi))\n"
      ],
      "metadata": {
        "id": "NasApnJx5c0y",
        "colab": {
          "base_uri": "https://localhost:8080/"
        },
        "outputId": "46912c19-0d9e-48d9-8e4f-53d9c161179a"
      },
      "execution_count": 13,
      "outputs": [
        {
          "output_type": "stream",
          "name": "stdout",
          "text": [
            "Nilai standar deviasi setelah scaling: 1.0\n"
          ]
        }
      ]
    },
    {
      "cell_type": "code",
      "source": [
        "df"
      ],
      "metadata": {
        "id": "XvKFKhrX5_U8",
        "colab": {
          "base_uri": "https://localhost:8080/",
          "height": 505
        },
        "outputId": "b7a954ef-c629-4bfa-e17e-50ed7d568b15"
      },
      "execution_count": 14,
      "outputs": [
        {
          "output_type": "execute_result",
          "data": {
            "text/plain": [
              "           id  diagnosis  radius_mean  texture_mean  perimeter_mean  \\\n",
              "0      842302          1     1.097064     -2.073335        1.269934   \n",
              "1      842517          1     1.829821     -0.353632        1.685955   \n",
              "2    84300903          1     1.579888      0.456187        1.566503   \n",
              "3    84348301          1    -0.768909      0.253732       -0.592687   \n",
              "4    84358402          1     1.750297     -1.151816        1.776573   \n",
              "..        ...        ...          ...           ...             ...   \n",
              "564    926424          1     2.110995      0.721473        2.060786   \n",
              "565    926682          1     1.704854      2.085134        1.615931   \n",
              "566    926954          1     0.702284      2.045574        0.672676   \n",
              "567    927241          1     1.838341      2.336457        1.982524   \n",
              "568     92751          0    -1.808401      1.221792       -1.814389   \n",
              "\n",
              "     area_mean  smoothness_mean  compactness_mean  concavity_mean  \\\n",
              "0     0.984375         1.568466          3.283515        2.652874   \n",
              "1     1.908708        -0.826962         -0.487072       -0.023846   \n",
              "2     1.558884         0.942210          1.052926        1.363478   \n",
              "3    -0.764464         3.283553          3.402909        1.915897   \n",
              "4     1.826229         0.280372          0.539340        1.371011   \n",
              "..         ...              ...               ...             ...   \n",
              "564   2.343856         1.041842          0.219060        1.947285   \n",
              "565   1.723842         0.102458         -0.017833        0.693043   \n",
              "566   0.577953        -0.840484         -0.038680        0.046588   \n",
              "567   1.735218         1.525767          3.272144        3.296944   \n",
              "568  -1.347789        -3.112085         -1.150752       -1.114873   \n",
              "\n",
              "     concave points_mean  ...  radius_worst  texture_worst  perimeter_worst  \\\n",
              "0               2.532475  ...      1.886690      -1.359293         2.303601   \n",
              "1               0.548144  ...      1.805927      -0.369203         1.535126   \n",
              "2               2.037231  ...      1.511870      -0.023974         1.347475   \n",
              "3               1.451707  ...     -0.281464       0.133984        -0.249939   \n",
              "4               1.428493  ...      1.298575      -1.466770         1.338539   \n",
              "..                   ...  ...           ...            ...              ...   \n",
              "564             2.320965  ...      1.901185       0.117700         1.752563   \n",
              "565             1.263669  ...      1.536720       2.047399         1.421940   \n",
              "566             0.105777  ...      0.561361       1.374854         0.579001   \n",
              "567             2.658866  ...      1.961239       2.237926         2.303601   \n",
              "568            -1.261820  ...     -1.410893       0.764190        -1.432735   \n",
              "\n",
              "     area_worst  smoothness_worst  compactness_worst  concavity_worst  \\\n",
              "0      2.001237          1.307686           2.616665         2.109526   \n",
              "1      1.890489         -0.375612          -0.430444        -0.146749   \n",
              "2      1.456285          0.527407           1.082932         0.854974   \n",
              "3     -0.550021          3.394275           3.893397         1.989588   \n",
              "4      1.220724          0.220556          -0.313395         0.613179   \n",
              "..          ...               ...                ...              ...   \n",
              "564    2.015301          0.378365          -0.273318         0.664512   \n",
              "565    1.494959         -0.691230          -0.394820         0.236573   \n",
              "566    0.427906         -0.809587           0.350735         0.326767   \n",
              "567    1.653171          1.430427           3.904848         3.197605   \n",
              "568   -1.075813         -1.859019          -1.207552        -1.305831   \n",
              "\n",
              "     concave points_worst  symmetry_worst  fractal_dimension_worst  \n",
              "0                2.296076        2.750622                 1.937015  \n",
              "1                1.087084       -0.243890                 0.281190  \n",
              "2                1.955000        1.152255                 0.201391  \n",
              "3                2.175786        6.046041                 4.935010  \n",
              "4                0.729259       -0.868353                -0.397100  \n",
              "..                    ...             ...                      ...  \n",
              "564              1.629151       -1.360158                -0.709091  \n",
              "565              0.733827       -0.531855                -0.973978  \n",
              "566              0.414069       -1.104549                -0.318409  \n",
              "567              2.289985        1.919083                 2.219635  \n",
              "568             -1.745063       -0.048138                -0.751207  \n",
              "\n",
              "[569 rows x 32 columns]"
            ],
            "text/html": [
              "\n",
              "  <div id=\"df-e43c5be3-84f1-42a2-b29c-ff8f36ba8b63\">\n",
              "    <div class=\"colab-df-container\">\n",
              "      <div>\n",
              "<style scoped>\n",
              "    .dataframe tbody tr th:only-of-type {\n",
              "        vertical-align: middle;\n",
              "    }\n",
              "\n",
              "    .dataframe tbody tr th {\n",
              "        vertical-align: top;\n",
              "    }\n",
              "\n",
              "    .dataframe thead th {\n",
              "        text-align: right;\n",
              "    }\n",
              "</style>\n",
              "<table border=\"1\" class=\"dataframe\">\n",
              "  <thead>\n",
              "    <tr style=\"text-align: right;\">\n",
              "      <th></th>\n",
              "      <th>id</th>\n",
              "      <th>diagnosis</th>\n",
              "      <th>radius_mean</th>\n",
              "      <th>texture_mean</th>\n",
              "      <th>perimeter_mean</th>\n",
              "      <th>area_mean</th>\n",
              "      <th>smoothness_mean</th>\n",
              "      <th>compactness_mean</th>\n",
              "      <th>concavity_mean</th>\n",
              "      <th>concave points_mean</th>\n",
              "      <th>...</th>\n",
              "      <th>radius_worst</th>\n",
              "      <th>texture_worst</th>\n",
              "      <th>perimeter_worst</th>\n",
              "      <th>area_worst</th>\n",
              "      <th>smoothness_worst</th>\n",
              "      <th>compactness_worst</th>\n",
              "      <th>concavity_worst</th>\n",
              "      <th>concave points_worst</th>\n",
              "      <th>symmetry_worst</th>\n",
              "      <th>fractal_dimension_worst</th>\n",
              "    </tr>\n",
              "  </thead>\n",
              "  <tbody>\n",
              "    <tr>\n",
              "      <th>0</th>\n",
              "      <td>842302</td>\n",
              "      <td>1</td>\n",
              "      <td>1.097064</td>\n",
              "      <td>-2.073335</td>\n",
              "      <td>1.269934</td>\n",
              "      <td>0.984375</td>\n",
              "      <td>1.568466</td>\n",
              "      <td>3.283515</td>\n",
              "      <td>2.652874</td>\n",
              "      <td>2.532475</td>\n",
              "      <td>...</td>\n",
              "      <td>1.886690</td>\n",
              "      <td>-1.359293</td>\n",
              "      <td>2.303601</td>\n",
              "      <td>2.001237</td>\n",
              "      <td>1.307686</td>\n",
              "      <td>2.616665</td>\n",
              "      <td>2.109526</td>\n",
              "      <td>2.296076</td>\n",
              "      <td>2.750622</td>\n",
              "      <td>1.937015</td>\n",
              "    </tr>\n",
              "    <tr>\n",
              "      <th>1</th>\n",
              "      <td>842517</td>\n",
              "      <td>1</td>\n",
              "      <td>1.829821</td>\n",
              "      <td>-0.353632</td>\n",
              "      <td>1.685955</td>\n",
              "      <td>1.908708</td>\n",
              "      <td>-0.826962</td>\n",
              "      <td>-0.487072</td>\n",
              "      <td>-0.023846</td>\n",
              "      <td>0.548144</td>\n",
              "      <td>...</td>\n",
              "      <td>1.805927</td>\n",
              "      <td>-0.369203</td>\n",
              "      <td>1.535126</td>\n",
              "      <td>1.890489</td>\n",
              "      <td>-0.375612</td>\n",
              "      <td>-0.430444</td>\n",
              "      <td>-0.146749</td>\n",
              "      <td>1.087084</td>\n",
              "      <td>-0.243890</td>\n",
              "      <td>0.281190</td>\n",
              "    </tr>\n",
              "    <tr>\n",
              "      <th>2</th>\n",
              "      <td>84300903</td>\n",
              "      <td>1</td>\n",
              "      <td>1.579888</td>\n",
              "      <td>0.456187</td>\n",
              "      <td>1.566503</td>\n",
              "      <td>1.558884</td>\n",
              "      <td>0.942210</td>\n",
              "      <td>1.052926</td>\n",
              "      <td>1.363478</td>\n",
              "      <td>2.037231</td>\n",
              "      <td>...</td>\n",
              "      <td>1.511870</td>\n",
              "      <td>-0.023974</td>\n",
              "      <td>1.347475</td>\n",
              "      <td>1.456285</td>\n",
              "      <td>0.527407</td>\n",
              "      <td>1.082932</td>\n",
              "      <td>0.854974</td>\n",
              "      <td>1.955000</td>\n",
              "      <td>1.152255</td>\n",
              "      <td>0.201391</td>\n",
              "    </tr>\n",
              "    <tr>\n",
              "      <th>3</th>\n",
              "      <td>84348301</td>\n",
              "      <td>1</td>\n",
              "      <td>-0.768909</td>\n",
              "      <td>0.253732</td>\n",
              "      <td>-0.592687</td>\n",
              "      <td>-0.764464</td>\n",
              "      <td>3.283553</td>\n",
              "      <td>3.402909</td>\n",
              "      <td>1.915897</td>\n",
              "      <td>1.451707</td>\n",
              "      <td>...</td>\n",
              "      <td>-0.281464</td>\n",
              "      <td>0.133984</td>\n",
              "      <td>-0.249939</td>\n",
              "      <td>-0.550021</td>\n",
              "      <td>3.394275</td>\n",
              "      <td>3.893397</td>\n",
              "      <td>1.989588</td>\n",
              "      <td>2.175786</td>\n",
              "      <td>6.046041</td>\n",
              "      <td>4.935010</td>\n",
              "    </tr>\n",
              "    <tr>\n",
              "      <th>4</th>\n",
              "      <td>84358402</td>\n",
              "      <td>1</td>\n",
              "      <td>1.750297</td>\n",
              "      <td>-1.151816</td>\n",
              "      <td>1.776573</td>\n",
              "      <td>1.826229</td>\n",
              "      <td>0.280372</td>\n",
              "      <td>0.539340</td>\n",
              "      <td>1.371011</td>\n",
              "      <td>1.428493</td>\n",
              "      <td>...</td>\n",
              "      <td>1.298575</td>\n",
              "      <td>-1.466770</td>\n",
              "      <td>1.338539</td>\n",
              "      <td>1.220724</td>\n",
              "      <td>0.220556</td>\n",
              "      <td>-0.313395</td>\n",
              "      <td>0.613179</td>\n",
              "      <td>0.729259</td>\n",
              "      <td>-0.868353</td>\n",
              "      <td>-0.397100</td>\n",
              "    </tr>\n",
              "    <tr>\n",
              "      <th>...</th>\n",
              "      <td>...</td>\n",
              "      <td>...</td>\n",
              "      <td>...</td>\n",
              "      <td>...</td>\n",
              "      <td>...</td>\n",
              "      <td>...</td>\n",
              "      <td>...</td>\n",
              "      <td>...</td>\n",
              "      <td>...</td>\n",
              "      <td>...</td>\n",
              "      <td>...</td>\n",
              "      <td>...</td>\n",
              "      <td>...</td>\n",
              "      <td>...</td>\n",
              "      <td>...</td>\n",
              "      <td>...</td>\n",
              "      <td>...</td>\n",
              "      <td>...</td>\n",
              "      <td>...</td>\n",
              "      <td>...</td>\n",
              "      <td>...</td>\n",
              "    </tr>\n",
              "    <tr>\n",
              "      <th>564</th>\n",
              "      <td>926424</td>\n",
              "      <td>1</td>\n",
              "      <td>2.110995</td>\n",
              "      <td>0.721473</td>\n",
              "      <td>2.060786</td>\n",
              "      <td>2.343856</td>\n",
              "      <td>1.041842</td>\n",
              "      <td>0.219060</td>\n",
              "      <td>1.947285</td>\n",
              "      <td>2.320965</td>\n",
              "      <td>...</td>\n",
              "      <td>1.901185</td>\n",
              "      <td>0.117700</td>\n",
              "      <td>1.752563</td>\n",
              "      <td>2.015301</td>\n",
              "      <td>0.378365</td>\n",
              "      <td>-0.273318</td>\n",
              "      <td>0.664512</td>\n",
              "      <td>1.629151</td>\n",
              "      <td>-1.360158</td>\n",
              "      <td>-0.709091</td>\n",
              "    </tr>\n",
              "    <tr>\n",
              "      <th>565</th>\n",
              "      <td>926682</td>\n",
              "      <td>1</td>\n",
              "      <td>1.704854</td>\n",
              "      <td>2.085134</td>\n",
              "      <td>1.615931</td>\n",
              "      <td>1.723842</td>\n",
              "      <td>0.102458</td>\n",
              "      <td>-0.017833</td>\n",
              "      <td>0.693043</td>\n",
              "      <td>1.263669</td>\n",
              "      <td>...</td>\n",
              "      <td>1.536720</td>\n",
              "      <td>2.047399</td>\n",
              "      <td>1.421940</td>\n",
              "      <td>1.494959</td>\n",
              "      <td>-0.691230</td>\n",
              "      <td>-0.394820</td>\n",
              "      <td>0.236573</td>\n",
              "      <td>0.733827</td>\n",
              "      <td>-0.531855</td>\n",
              "      <td>-0.973978</td>\n",
              "    </tr>\n",
              "    <tr>\n",
              "      <th>566</th>\n",
              "      <td>926954</td>\n",
              "      <td>1</td>\n",
              "      <td>0.702284</td>\n",
              "      <td>2.045574</td>\n",
              "      <td>0.672676</td>\n",
              "      <td>0.577953</td>\n",
              "      <td>-0.840484</td>\n",
              "      <td>-0.038680</td>\n",
              "      <td>0.046588</td>\n",
              "      <td>0.105777</td>\n",
              "      <td>...</td>\n",
              "      <td>0.561361</td>\n",
              "      <td>1.374854</td>\n",
              "      <td>0.579001</td>\n",
              "      <td>0.427906</td>\n",
              "      <td>-0.809587</td>\n",
              "      <td>0.350735</td>\n",
              "      <td>0.326767</td>\n",
              "      <td>0.414069</td>\n",
              "      <td>-1.104549</td>\n",
              "      <td>-0.318409</td>\n",
              "    </tr>\n",
              "    <tr>\n",
              "      <th>567</th>\n",
              "      <td>927241</td>\n",
              "      <td>1</td>\n",
              "      <td>1.838341</td>\n",
              "      <td>2.336457</td>\n",
              "      <td>1.982524</td>\n",
              "      <td>1.735218</td>\n",
              "      <td>1.525767</td>\n",
              "      <td>3.272144</td>\n",
              "      <td>3.296944</td>\n",
              "      <td>2.658866</td>\n",
              "      <td>...</td>\n",
              "      <td>1.961239</td>\n",
              "      <td>2.237926</td>\n",
              "      <td>2.303601</td>\n",
              "      <td>1.653171</td>\n",
              "      <td>1.430427</td>\n",
              "      <td>3.904848</td>\n",
              "      <td>3.197605</td>\n",
              "      <td>2.289985</td>\n",
              "      <td>1.919083</td>\n",
              "      <td>2.219635</td>\n",
              "    </tr>\n",
              "    <tr>\n",
              "      <th>568</th>\n",
              "      <td>92751</td>\n",
              "      <td>0</td>\n",
              "      <td>-1.808401</td>\n",
              "      <td>1.221792</td>\n",
              "      <td>-1.814389</td>\n",
              "      <td>-1.347789</td>\n",
              "      <td>-3.112085</td>\n",
              "      <td>-1.150752</td>\n",
              "      <td>-1.114873</td>\n",
              "      <td>-1.261820</td>\n",
              "      <td>...</td>\n",
              "      <td>-1.410893</td>\n",
              "      <td>0.764190</td>\n",
              "      <td>-1.432735</td>\n",
              "      <td>-1.075813</td>\n",
              "      <td>-1.859019</td>\n",
              "      <td>-1.207552</td>\n",
              "      <td>-1.305831</td>\n",
              "      <td>-1.745063</td>\n",
              "      <td>-0.048138</td>\n",
              "      <td>-0.751207</td>\n",
              "    </tr>\n",
              "  </tbody>\n",
              "</table>\n",
              "<p>569 rows × 32 columns</p>\n",
              "</div>\n",
              "      <button class=\"colab-df-convert\" onclick=\"convertToInteractive('df-e43c5be3-84f1-42a2-b29c-ff8f36ba8b63')\"\n",
              "              title=\"Convert this dataframe to an interactive table.\"\n",
              "              style=\"display:none;\">\n",
              "        \n",
              "  <svg xmlns=\"http://www.w3.org/2000/svg\" height=\"24px\"viewBox=\"0 0 24 24\"\n",
              "       width=\"24px\">\n",
              "    <path d=\"M0 0h24v24H0V0z\" fill=\"none\"/>\n",
              "    <path d=\"M18.56 5.44l.94 2.06.94-2.06 2.06-.94-2.06-.94-.94-2.06-.94 2.06-2.06.94zm-11 1L8.5 8.5l.94-2.06 2.06-.94-2.06-.94L8.5 2.5l-.94 2.06-2.06.94zm10 10l.94 2.06.94-2.06 2.06-.94-2.06-.94-.94-2.06-.94 2.06-2.06.94z\"/><path d=\"M17.41 7.96l-1.37-1.37c-.4-.4-.92-.59-1.43-.59-.52 0-1.04.2-1.43.59L10.3 9.45l-7.72 7.72c-.78.78-.78 2.05 0 2.83L4 21.41c.39.39.9.59 1.41.59.51 0 1.02-.2 1.41-.59l7.78-7.78 2.81-2.81c.8-.78.8-2.07 0-2.86zM5.41 20L4 18.59l7.72-7.72 1.47 1.35L5.41 20z\"/>\n",
              "  </svg>\n",
              "      </button>\n",
              "      \n",
              "  <style>\n",
              "    .colab-df-container {\n",
              "      display:flex;\n",
              "      flex-wrap:wrap;\n",
              "      gap: 12px;\n",
              "    }\n",
              "\n",
              "    .colab-df-convert {\n",
              "      background-color: #E8F0FE;\n",
              "      border: none;\n",
              "      border-radius: 50%;\n",
              "      cursor: pointer;\n",
              "      display: none;\n",
              "      fill: #1967D2;\n",
              "      height: 32px;\n",
              "      padding: 0 0 0 0;\n",
              "      width: 32px;\n",
              "    }\n",
              "\n",
              "    .colab-df-convert:hover {\n",
              "      background-color: #E2EBFA;\n",
              "      box-shadow: 0px 1px 2px rgba(60, 64, 67, 0.3), 0px 1px 3px 1px rgba(60, 64, 67, 0.15);\n",
              "      fill: #174EA6;\n",
              "    }\n",
              "\n",
              "    [theme=dark] .colab-df-convert {\n",
              "      background-color: #3B4455;\n",
              "      fill: #D2E3FC;\n",
              "    }\n",
              "\n",
              "    [theme=dark] .colab-df-convert:hover {\n",
              "      background-color: #434B5C;\n",
              "      box-shadow: 0px 1px 3px 1px rgba(0, 0, 0, 0.15);\n",
              "      filter: drop-shadow(0px 1px 2px rgba(0, 0, 0, 0.3));\n",
              "      fill: #FFFFFF;\n",
              "    }\n",
              "  </style>\n",
              "\n",
              "      <script>\n",
              "        const buttonEl =\n",
              "          document.querySelector('#df-e43c5be3-84f1-42a2-b29c-ff8f36ba8b63 button.colab-df-convert');\n",
              "        buttonEl.style.display =\n",
              "          google.colab.kernel.accessAllowed ? 'block' : 'none';\n",
              "\n",
              "        async function convertToInteractive(key) {\n",
              "          const element = document.querySelector('#df-e43c5be3-84f1-42a2-b29c-ff8f36ba8b63');\n",
              "          const dataTable =\n",
              "            await google.colab.kernel.invokeFunction('convertToInteractive',\n",
              "                                                     [key], {});\n",
              "          if (!dataTable) return;\n",
              "\n",
              "          const docLinkHtml = 'Like what you see? Visit the ' +\n",
              "            '<a target=\"_blank\" href=https://colab.research.google.com/notebooks/data_table.ipynb>data table notebook</a>'\n",
              "            + ' to learn more about interactive tables.';\n",
              "          element.innerHTML = '';\n",
              "          dataTable['output_type'] = 'display_data';\n",
              "          await google.colab.output.renderOutput(dataTable, element);\n",
              "          const docLink = document.createElement('div');\n",
              "          docLink.innerHTML = docLinkHtml;\n",
              "          element.appendChild(docLink);\n",
              "        }\n",
              "      </script>\n",
              "    </div>\n",
              "  </div>\n",
              "  "
            ]
          },
          "metadata": {},
          "execution_count": 14
        }
      ]
    },
    {
      "cell_type": "markdown",
      "source": [
        "# DATA MODELING\n"
      ],
      "metadata": {
        "id": "39w_tSzM6Pjq"
      }
    },
    {
      "cell_type": "markdown",
      "source": [
        "### Membuat Model"
      ],
      "metadata": {
        "id": "a-Je8vXt6dLg"
      }
    },
    {
      "cell_type": "code",
      "source": [
        "X = df[['radius_mean', 'texture_mean', 'perimeter_mean',\n",
        "       'area_mean', 'smoothness_mean', 'compactness_mean', 'concavity_mean',\n",
        "       'concave points_mean', 'symmetry_mean', 'fractal_dimension_mean',\n",
        "       'radius_se', 'texture_se', 'perimeter_se', 'area_se', 'smoothness_se',\n",
        "       'compactness_se', 'concavity_se', 'concave points_se', 'symmetry_se',\n",
        "       'fractal_dimension_se', 'radius_worst', 'texture_worst',\n",
        "       'perimeter_worst', 'area_worst', 'smoothness_worst',\n",
        "       'compactness_worst', 'concavity_worst', 'concave points_worst',\n",
        "       'symmetry_worst', 'fractal_dimension_worst']]##data\n",
        "Y = df['diagnosis']##label"
      ],
      "metadata": {
        "id": "atpE-VtP_UNt"
      },
      "execution_count": 16,
      "outputs": []
    },
    {
      "cell_type": "code",
      "source": [
        "x_train,x_test,y_train,y_test = train_test_split(X,Y,random_state = True, test_size=.2)#Membagi data untuk data traininf dan data testing"
      ],
      "metadata": {
        "id": "en0xFS56DHnT"
      },
      "execution_count": 17,
      "outputs": []
    },
    {
      "cell_type": "markdown",
      "source": [
        "### NAIVE BAYES"
      ],
      "metadata": {
        "id": "EFeJBDJIHqqS"
      }
    },
    {
      "cell_type": "code",
      "source": [
        "classifier = GaussianNB()#membuat variabel untuk klasifikasi"
      ],
      "metadata": {
        "id": "VatILS3J_m-0"
      },
      "execution_count": 18,
      "outputs": []
    },
    {
      "cell_type": "code",
      "source": [
        "classifier.fit(x_train,y_train)#melatih data\n"
      ],
      "metadata": {
        "id": "5W2K8wqJ7SNy",
        "colab": {
          "base_uri": "https://localhost:8080/"
        },
        "outputId": "8a80f002-f6a6-4984-9d26-e106f0b04456"
      },
      "execution_count": 19,
      "outputs": [
        {
          "output_type": "execute_result",
          "data": {
            "text/plain": [
              "GaussianNB()"
            ]
          },
          "metadata": {},
          "execution_count": 19
        }
      ]
    },
    {
      "cell_type": "code",
      "source": [
        "classifier.score(x_test, y_test)"
      ],
      "metadata": {
        "id": "hIHMnyum_-6d",
        "colab": {
          "base_uri": "https://localhost:8080/"
        },
        "outputId": "0b51002e-ce6a-4847-eeaf-bb0236928aa9"
      },
      "execution_count": 20,
      "outputs": [
        {
          "output_type": "execute_result",
          "data": {
            "text/plain": [
              "0.9473684210526315"
            ]
          },
          "metadata": {},
          "execution_count": 20
        }
      ]
    },
    {
      "cell_type": "code",
      "source": [
        "predicted_value = classifier.predict(x_test)#prediksi data\n",
        "accuracy = accuracy_score(y_test,predicted_value)#akurasi data"
      ],
      "metadata": {
        "id": "_D_G0TLRAFeq"
      },
      "execution_count": 21,
      "outputs": []
    },
    {
      "cell_type": "code",
      "source": [
        "from sklearn.metrics import classification_report, ConfusionMatrixDisplay\n",
        "\n",
        "print(classification_report(y_test,predicted_value))"
      ],
      "metadata": {
        "id": "RUUBqltoyZgc",
        "colab": {
          "base_uri": "https://localhost:8080/"
        },
        "outputId": "47b92388-d9e4-400a-c417-799ec9be0b62"
      },
      "execution_count": 22,
      "outputs": [
        {
          "output_type": "stream",
          "name": "stdout",
          "text": [
            "              precision    recall  f1-score   support\n",
            "\n",
            "           0       0.95      0.97      0.96        72\n",
            "           1       0.95      0.90      0.93        42\n",
            "\n",
            "    accuracy                           0.95       114\n",
            "   macro avg       0.95      0.94      0.94       114\n",
            "weighted avg       0.95      0.95      0.95       114\n",
            "\n"
          ]
        }
      ]
    },
    {
      "cell_type": "code",
      "source": [
        "ConfusionMatrixDisplay.from_predictions(y_test, predicted_value)"
      ],
      "metadata": {
        "id": "pmcBD_tweolm",
        "colab": {
          "base_uri": "https://localhost:8080/",
          "height": 301
        },
        "outputId": "fed799cb-2e5a-47c6-d91b-4f7a65f3fab8"
      },
      "execution_count": 23,
      "outputs": [
        {
          "output_type": "execute_result",
          "data": {
            "text/plain": [
              "<sklearn.metrics._plot.confusion_matrix.ConfusionMatrixDisplay at 0x7ff25dd5be10>"
            ]
          },
          "metadata": {},
          "execution_count": 23
        },
        {
          "output_type": "display_data",
          "data": {
            "text/plain": [
              "<Figure size 432x288 with 2 Axes>"
            ],
            "image/png": "[encoded data removed]"
          },
          "metadata": {
            "needs_background": "light"
          }
        }
      ]
    },
    {
      "cell_type": "markdown",
      "source": [
        "## SVM"
      ],
      "metadata": {
        "id": "m5-dAKrMz8S5"
      }
    },
    {
      "cell_type": "code",
      "source": [
        "svc = SVC(kernel = 'linear')\n",
        "svc.fit(x_train,y_train)\n"
      ],
      "metadata": {
        "id": "c1id3TPBGvR_",
        "colab": {
          "base_uri": "https://localhost:8080/"
        },
        "outputId": "d0f4d2b2-25df-4630-9d12-8a64c9766a9b"
      },
      "execution_count": 30,
      "outputs": [
        {
          "output_type": "execute_result",
          "data": {
            "text/plain": [
              "SVC(kernel='linear')"
            ]
          },
          "metadata": {},
          "execution_count": 30
        }
      ]
    },
    {
      "cell_type": "code",
      "source": [
        "predicted_value = svc.predict(x_test)#prediksi data\n",
        "accuracy = accuracy_score(y_test,predicted_value)#akurasi data"
      ],
      "metadata": {
        "id": "thPkzvhsrg-E"
      },
      "execution_count": 31,
      "outputs": []
    },
    {
      "cell_type": "code",
      "source": [
        "svc.score(x_test, y_test)#score hasil klasifikasi"
      ],
      "metadata": {
        "id": "Ha0XJ8ATr-Mr",
        "colab": {
          "base_uri": "https://localhost:8080/"
        },
        "outputId": "00129d41-a995-4301-d692-773a1a4f64a7"
      },
      "execution_count": 32,
      "outputs": [
        {
          "output_type": "execute_result",
          "data": {
            "text/plain": [
              "0.9649122807017544"
            ]
          },
          "metadata": {},
          "execution_count": 32
        }
      ]
    },
    {
      "cell_type": "code",
      "source": [
        "from sklearn.metrics import classification_report\n",
        "\n",
        "print(classification_report(y_test,predicted_value))"
      ],
      "metadata": {
        "id": "ajJYGHvvsldO",
        "colab": {
          "base_uri": "https://localhost:8080/"
        },
        "outputId": "b671ade8-1e5e-4cdc-aa1f-735224d11898"
      },
      "execution_count": 33,
      "outputs": [
        {
          "output_type": "stream",
          "name": "stdout",
          "text": [
            "              precision    recall  f1-score   support\n",
            "\n",
            "           0       0.96      0.99      0.97        72\n",
            "           1       0.97      0.93      0.95        42\n",
            "\n",
            "    accuracy                           0.96       114\n",
            "   macro avg       0.97      0.96      0.96       114\n",
            "weighted avg       0.97      0.96      0.96       114\n",
            "\n"
          ]
        }
      ]
    },
    {
      "cell_type": "code",
      "source": [
        "ConfusionMatrixDisplay.from_predictions(y_test, predicted_value)"
      ],
      "metadata": {
        "colab": {
          "base_uri": "https://localhost:8080/",
          "height": 298
        },
        "id": "tGJ_ZnsEz2Pb",
        "outputId": "a81edce0-67b4-4c71-8ca0-b5488df793a6"
      },
      "execution_count": 34,
      "outputs": [
        {
          "output_type": "execute_result",
          "data": {
            "text/plain": [
              "<sklearn.metrics._plot.confusion_matrix.ConfusionMatrixDisplay at 0x7ff25a50b8d0>"
            ]
          },
          "metadata": {},
          "execution_count": 34
        },
        {
          "output_type": "display_data",
          "data": {
            "text/plain": [
              "<Figure size 432x288 with 2 Axes>"
            ],
            "image/png": "[encoded data removed]"
          },
          "metadata": {
            "needs_background": "light"
          }
        }
      ]
    },
    {
      "cell_type": "markdown",
      "source": [
        "## Mengkonversi hasil prediksi"
      ],
      "metadata": {
        "id": "9h4agdvu71W8"
      }
    },
    {
      "cell_type": "code",
      "source": [
        "hasil = pd.concat([x_test.reset_index(drop = True),pd.Series(predicted_value)],axis = 1)"
      ],
      "metadata": {
        "id": "GTOfAEGOFYHT"
      },
      "execution_count": 35,
      "outputs": []
    },
    {
      "cell_type": "code",
      "source": [
        "hasil"
      ],
      "metadata": {
        "id": "WOqBQ4lkMZlV",
        "colab": {
          "base_uri": "https://localhost:8080/",
          "height": 505
        },
        "outputId": "86c51e38-3bd4-4c90-fb47-11a24891a498"
      },
      "execution_count": 36,
      "outputs": [
        {
          "output_type": "execute_result",
          "data": {
            "text/plain": [
              "     radius_mean  texture_mean  perimeter_mean  area_mean  smoothness_mean  \\\n",
              "0       0.159817     -1.235591        0.257479   0.003444         0.479635   \n",
              "1      -0.271884     -0.146523       -0.246689  -0.342115         1.383436   \n",
              "2      -0.334368     -0.760869       -0.363670  -0.401556         0.294605   \n",
              "3       1.187949     -0.165140        1.096935   1.098139        -0.745834   \n",
              "4       0.284783      2.448156        0.195281   0.183760        -0.936557   \n",
              "..           ...           ...             ...        ...              ...   \n",
              "109     0.378508     -1.721948        0.433773   0.233247         2.087974   \n",
              "110    -0.768909      0.253732       -0.592687  -0.764464         3.283553   \n",
              "111    -1.447987     -0.456023       -1.366651  -1.150124         0.728714   \n",
              "112     0.114375      0.011717        0.093953   0.013683        -0.888165   \n",
              "113    -0.098636     -0.814392       -0.148245  -0.196212        -0.582865   \n",
              "\n",
              "     compactness_mean  concavity_mean  concave points_mean  symmetry_mean  \\\n",
              "0            1.502076        0.705598             0.363201       1.001751   \n",
              "1            0.355511        0.424367             0.631459       1.155090   \n",
              "2           -0.472100       -0.342114            -0.392562      -0.297985   \n",
              "3           -0.372605       -0.089257             0.237843      -0.695938   \n",
              "4           -1.104700       -0.526547            -0.555322       0.147430   \n",
              "..                ...             ...                  ...            ...   \n",
              "109          0.969539        1.436297             1.567780       0.563638   \n",
              "110          3.402909        1.915897             1.451707       2.867383   \n",
              "111          0.700428        2.814833            -0.133333       1.093024   \n",
              "112         -0.499201       -0.007901            -0.507346      -1.236277   \n",
              "113         -0.704256       -0.982418            -1.005505      -1.484542   \n",
              "\n",
              "     fractal_dimension_mean  ...  texture_worst  perimeter_worst  area_worst  \\\n",
              "0                  1.596561  ...      -1.194821         0.203699   -0.125485   \n",
              "1                  0.704888  ...       0.370108        -0.132881   -0.213029   \n",
              "2                  0.269684  ...      -0.935900        -0.549585   -0.518906   \n",
              "3                 -1.211713  ...       0.111186         0.951324    0.930669   \n",
              "4                 -1.397419  ...       1.829188         0.084556    0.089332   \n",
              "..                      ...  ...            ...              ...         ...   \n",
              "109                1.118828  ...      -1.406518         0.528365    0.389232   \n",
              "110                4.910919  ...       0.133984        -0.249939   -0.550021   \n",
              "111                2.503828  ...      -0.492965        -1.243893   -0.977194   \n",
              "112               -0.756662  ...       0.441759         0.024984   -0.088042   \n",
              "113               -0.612066  ...      -1.331610        -0.278832   -0.305847   \n",
              "\n",
              "     smoothness_worst  compactness_worst  concavity_worst  \\\n",
              "0           -0.051226           0.694887         0.238492   \n",
              "1            2.026595           1.032677         1.095810   \n",
              "2            0.698367          -0.301944        -0.230706   \n",
              "3           -0.393146          -0.062119         0.391533   \n",
              "4           -0.770135          -0.989865        -0.563654   \n",
              "..                ...                ...              ...   \n",
              "109          0.908780           0.661808         1.491126   \n",
              "110          3.394275           3.893397         1.989588   \n",
              "111          0.693984           1.159269         4.700669   \n",
              "112         -1.028767           0.067653         0.507153   \n",
              "113         -1.103288          -0.936175        -1.137102   \n",
              "\n",
              "     concave points_worst  symmetry_worst  fractal_dimension_worst  0  \n",
              "0               -0.057956       -0.119321                 0.450762  0  \n",
              "1                1.434251        1.616558                 1.881599  1  \n",
              "2               -0.137134        0.775312                 0.659126  0  \n",
              "3                0.647036        0.493818                -0.807177  1  \n",
              "4               -0.743914        0.537498                -1.235541  1  \n",
              "..                    ...             ...                      ... ..  \n",
              "109              1.036837        0.509996                 0.945071  1  \n",
              "110              2.175786        6.046041                 4.935010  1  \n",
              "111              0.919592        2.147190                 1.859432  1  \n",
              "112             -0.284223       -0.695250                -0.516244  0  \n",
              "113             -1.240758       -1.685332                -0.878109  0  \n",
              "\n",
              "[114 rows x 31 columns]"
            ],
            "text/html": [
              "\n",
              "  <div id=\"df-3cd7b879-1a0b-4139-89e2-5db6308d0a2f\">\n",
              "    <div class=\"colab-df-container\">\n",
              "      <div>\n",
              "<style scoped>\n",
              "    .dataframe tbody tr th:only-of-type {\n",
              "        vertical-align: middle;\n",
              "    }\n",
              "\n",
              "    .dataframe tbody tr th {\n",
              "        vertical-align: top;\n",
              "    }\n",
              "\n",
              "    .dataframe thead th {\n",
              "        text-align: right;\n",
              "    }\n",
              "</style>\n",
              "<table border=\"1\" class=\"dataframe\">\n",
              "  <thead>\n",
              "    <tr style=\"text-align: right;\">\n",
              "      <th></th>\n",
              "      <th>radius_mean</th>\n",
              "      <th>texture_mean</th>\n",
              "      <th>perimeter_mean</th>\n",
              "      <th>area_mean</th>\n",
              "      <th>smoothness_mean</th>\n",
              "      <th>compactness_mean</th>\n",
              "      <th>concavity_mean</th>\n",
              "      <th>concave points_mean</th>\n",
              "      <th>symmetry_mean</th>\n",
              "      <th>fractal_dimension_mean</th>\n",
              "      <th>...</th>\n",
              "      <th>texture_worst</th>\n",
              "      <th>perimeter_worst</th>\n",
              "      <th>area_worst</th>\n",
              "      <th>smoothness_worst</th>\n",
              "      <th>compactness_worst</th>\n",
              "      <th>concavity_worst</th>\n",
              "      <th>concave points_worst</th>\n",
              "      <th>symmetry_worst</th>\n",
              "      <th>fractal_dimension_worst</th>\n",
              "      <th>0</th>\n",
              "    </tr>\n",
              "  </thead>\n",
              "  <tbody>\n",
              "    <tr>\n",
              "      <th>0</th>\n",
              "      <td>0.159817</td>\n",
              "      <td>-1.235591</td>\n",
              "      <td>0.257479</td>\n",
              "      <td>0.003444</td>\n",
              "      <td>0.479635</td>\n",
              "      <td>1.502076</td>\n",
              "      <td>0.705598</td>\n",
              "      <td>0.363201</td>\n",
              "      <td>1.001751</td>\n",
              "      <td>1.596561</td>\n",
              "      <td>...</td>\n",
              "      <td>-1.194821</td>\n",
              "      <td>0.203699</td>\n",
              "      <td>-0.125485</td>\n",
              "      <td>-0.051226</td>\n",
              "      <td>0.694887</td>\n",
              "      <td>0.238492</td>\n",
              "      <td>-0.057956</td>\n",
              "      <td>-0.119321</td>\n",
              "      <td>0.450762</td>\n",
              "      <td>0</td>\n",
              "    </tr>\n",
              "    <tr>\n",
              "      <th>1</th>\n",
              "      <td>-0.271884</td>\n",
              "      <td>-0.146523</td>\n",
              "      <td>-0.246689</td>\n",
              "      <td>-0.342115</td>\n",
              "      <td>1.383436</td>\n",
              "      <td>0.355511</td>\n",
              "      <td>0.424367</td>\n",
              "      <td>0.631459</td>\n",
              "      <td>1.155090</td>\n",
              "      <td>0.704888</td>\n",
              "      <td>...</td>\n",
              "      <td>0.370108</td>\n",
              "      <td>-0.132881</td>\n",
              "      <td>-0.213029</td>\n",
              "      <td>2.026595</td>\n",
              "      <td>1.032677</td>\n",
              "      <td>1.095810</td>\n",
              "      <td>1.434251</td>\n",
              "      <td>1.616558</td>\n",
              "      <td>1.881599</td>\n",
              "      <td>1</td>\n",
              "    </tr>\n",
              "    <tr>\n",
              "      <th>2</th>\n",
              "      <td>-0.334368</td>\n",
              "      <td>-0.760869</td>\n",
              "      <td>-0.363670</td>\n",
              "      <td>-0.401556</td>\n",
              "      <td>0.294605</td>\n",
              "      <td>-0.472100</td>\n",
              "      <td>-0.342114</td>\n",
              "      <td>-0.392562</td>\n",
              "      <td>-0.297985</td>\n",
              "      <td>0.269684</td>\n",
              "      <td>...</td>\n",
              "      <td>-0.935900</td>\n",
              "      <td>-0.549585</td>\n",
              "      <td>-0.518906</td>\n",
              "      <td>0.698367</td>\n",
              "      <td>-0.301944</td>\n",
              "      <td>-0.230706</td>\n",
              "      <td>-0.137134</td>\n",
              "      <td>0.775312</td>\n",
              "      <td>0.659126</td>\n",
              "      <td>0</td>\n",
              "    </tr>\n",
              "    <tr>\n",
              "      <th>3</th>\n",
              "      <td>1.187949</td>\n",
              "      <td>-0.165140</td>\n",
              "      <td>1.096935</td>\n",
              "      <td>1.098139</td>\n",
              "      <td>-0.745834</td>\n",
              "      <td>-0.372605</td>\n",
              "      <td>-0.089257</td>\n",
              "      <td>0.237843</td>\n",
              "      <td>-0.695938</td>\n",
              "      <td>-1.211713</td>\n",
              "      <td>...</td>\n",
              "      <td>0.111186</td>\n",
              "      <td>0.951324</td>\n",
              "      <td>0.930669</td>\n",
              "      <td>-0.393146</td>\n",
              "      <td>-0.062119</td>\n",
              "      <td>0.391533</td>\n",
              "      <td>0.647036</td>\n",
              "      <td>0.493818</td>\n",
              "      <td>-0.807177</td>\n",
              "      <td>1</td>\n",
              "    </tr>\n",
              "    <tr>\n",
              "      <th>4</th>\n",
              "      <td>0.284783</td>\n",
              "      <td>2.448156</td>\n",
              "      <td>0.195281</td>\n",
              "      <td>0.183760</td>\n",
              "      <td>-0.936557</td>\n",
              "      <td>-1.104700</td>\n",
              "      <td>-0.526547</td>\n",
              "      <td>-0.555322</td>\n",
              "      <td>0.147430</td>\n",
              "      <td>-1.397419</td>\n",
              "      <td>...</td>\n",
              "      <td>1.829188</td>\n",
              "      <td>0.084556</td>\n",
              "      <td>0.089332</td>\n",
              "      <td>-0.770135</td>\n",
              "      <td>-0.989865</td>\n",
              "      <td>-0.563654</td>\n",
              "      <td>-0.743914</td>\n",
              "      <td>0.537498</td>\n",
              "      <td>-1.235541</td>\n",
              "      <td>1</td>\n",
              "    </tr>\n",
              "    <tr>\n",
              "      <th>...</th>\n",
              "      <td>...</td>\n",
              "      <td>...</td>\n",
              "      <td>...</td>\n",
              "      <td>...</td>\n",
              "      <td>...</td>\n",
              "      <td>...</td>\n",
              "      <td>...</td>\n",
              "      <td>...</td>\n",
              "      <td>...</td>\n",
              "      <td>...</td>\n",
              "      <td>...</td>\n",
              "      <td>...</td>\n",
              "      <td>...</td>\n",
              "      <td>...</td>\n",
              "      <td>...</td>\n",
              "      <td>...</td>\n",
              "      <td>...</td>\n",
              "      <td>...</td>\n",
              "      <td>...</td>\n",
              "      <td>...</td>\n",
              "      <td>...</td>\n",
              "    </tr>\n",
              "    <tr>\n",
              "      <th>109</th>\n",
              "      <td>0.378508</td>\n",
              "      <td>-1.721948</td>\n",
              "      <td>0.433773</td>\n",
              "      <td>0.233247</td>\n",
              "      <td>2.087974</td>\n",
              "      <td>0.969539</td>\n",
              "      <td>1.436297</td>\n",
              "      <td>1.567780</td>\n",
              "      <td>0.563638</td>\n",
              "      <td>1.118828</td>\n",
              "      <td>...</td>\n",
              "      <td>-1.406518</td>\n",
              "      <td>0.528365</td>\n",
              "      <td>0.389232</td>\n",
              "      <td>0.908780</td>\n",
              "      <td>0.661808</td>\n",
              "      <td>1.491126</td>\n",
              "      <td>1.036837</td>\n",
              "      <td>0.509996</td>\n",
              "      <td>0.945071</td>\n",
              "      <td>1</td>\n",
              "    </tr>\n",
              "    <tr>\n",
              "      <th>110</th>\n",
              "      <td>-0.768909</td>\n",
              "      <td>0.253732</td>\n",
              "      <td>-0.592687</td>\n",
              "      <td>-0.764464</td>\n",
              "      <td>3.283553</td>\n",
              "      <td>3.402909</td>\n",
              "      <td>1.915897</td>\n",
              "      <td>1.451707</td>\n",
              "      <td>2.867383</td>\n",
              "      <td>4.910919</td>\n",
              "      <td>...</td>\n",
              "      <td>0.133984</td>\n",
              "      <td>-0.249939</td>\n",
              "      <td>-0.550021</td>\n",
              "      <td>3.394275</td>\n",
              "      <td>3.893397</td>\n",
              "      <td>1.989588</td>\n",
              "      <td>2.175786</td>\n",
              "      <td>6.046041</td>\n",
              "      <td>4.935010</td>\n",
              "      <td>1</td>\n",
              "    </tr>\n",
              "    <tr>\n",
              "      <th>111</th>\n",
              "      <td>-1.447987</td>\n",
              "      <td>-0.456023</td>\n",
              "      <td>-1.366651</td>\n",
              "      <td>-1.150124</td>\n",
              "      <td>0.728714</td>\n",
              "      <td>0.700428</td>\n",
              "      <td>2.814833</td>\n",
              "      <td>-0.133333</td>\n",
              "      <td>1.093024</td>\n",
              "      <td>2.503828</td>\n",
              "      <td>...</td>\n",
              "      <td>-0.492965</td>\n",
              "      <td>-1.243893</td>\n",
              "      <td>-0.977194</td>\n",
              "      <td>0.693984</td>\n",
              "      <td>1.159269</td>\n",
              "      <td>4.700669</td>\n",
              "      <td>0.919592</td>\n",
              "      <td>2.147190</td>\n",
              "      <td>1.859432</td>\n",
              "      <td>1</td>\n",
              "    </tr>\n",
              "    <tr>\n",
              "      <th>112</th>\n",
              "      <td>0.114375</td>\n",
              "      <td>0.011717</td>\n",
              "      <td>0.093953</td>\n",
              "      <td>0.013683</td>\n",
              "      <td>-0.888165</td>\n",
              "      <td>-0.499201</td>\n",
              "      <td>-0.007901</td>\n",
              "      <td>-0.507346</td>\n",
              "      <td>-1.236277</td>\n",
              "      <td>-0.756662</td>\n",
              "      <td>...</td>\n",
              "      <td>0.441759</td>\n",
              "      <td>0.024984</td>\n",
              "      <td>-0.088042</td>\n",
              "      <td>-1.028767</td>\n",
              "      <td>0.067653</td>\n",
              "      <td>0.507153</td>\n",
              "      <td>-0.284223</td>\n",
              "      <td>-0.695250</td>\n",
              "      <td>-0.516244</td>\n",
              "      <td>0</td>\n",
              "    </tr>\n",
              "    <tr>\n",
              "      <th>113</th>\n",
              "      <td>-0.098636</td>\n",
              "      <td>-0.814392</td>\n",
              "      <td>-0.148245</td>\n",
              "      <td>-0.196212</td>\n",
              "      <td>-0.582865</td>\n",
              "      <td>-0.704256</td>\n",
              "      <td>-0.982418</td>\n",
              "      <td>-1.005505</td>\n",
              "      <td>-1.484542</td>\n",
              "      <td>-0.612066</td>\n",
              "      <td>...</td>\n",
              "      <td>-1.331610</td>\n",
              "      <td>-0.278832</td>\n",
              "      <td>-0.305847</td>\n",
              "      <td>-1.103288</td>\n",
              "      <td>-0.936175</td>\n",
              "      <td>-1.137102</td>\n",
              "      <td>-1.240758</td>\n",
              "      <td>-1.685332</td>\n",
              "      <td>-0.878109</td>\n",
              "      <td>0</td>\n",
              "    </tr>\n",
              "  </tbody>\n",
              "</table>\n",
              "<p>114 rows × 31 columns</p>\n",
              "</div>\n",
              "      <button class=\"colab-df-convert\" onclick=\"convertToInteractive('df-3cd7b879-1a0b-4139-89e2-5db6308d0a2f')\"\n",
              "              title=\"Convert this dataframe to an interactive table.\"\n",
              "              style=\"display:none;\">\n",
              "        \n",
              "  <svg xmlns=\"http://www.w3.org/2000/svg\" height=\"24px\"viewBox=\"0 0 24 24\"\n",
              "       width=\"24px\">\n",
              "    <path d=\"M0 0h24v24H0V0z\" fill=\"none\"/>\n",
              "    <path d=\"M18.56 5.44l.94 2.06.94-2.06 2.06-.94-2.06-.94-.94-2.06-.94 2.06-2.06.94zm-11 1L8.5 8.5l.94-2.06 2.06-.94-2.06-.94L8.5 2.5l-.94 2.06-2.06.94zm10 10l.94 2.06.94-2.06 2.06-.94-2.06-.94-.94-2.06-.94 2.06-2.06.94z\"/><path d=\"M17.41 7.96l-1.37-1.37c-.4-.4-.92-.59-1.43-.59-.52 0-1.04.2-1.43.59L10.3 9.45l-7.72 7.72c-.78.78-.78 2.05 0 2.83L4 21.41c.39.39.9.59 1.41.59.51 0 1.02-.2 1.41-.59l7.78-7.78 2.81-2.81c.8-.78.8-2.07 0-2.86zM5.41 20L4 18.59l7.72-7.72 1.47 1.35L5.41 20z\"/>\n",
              "  </svg>\n",
              "      </button>\n",
              "      \n",
              "  <style>\n",
              "    .colab-df-container {\n",
              "      display:flex;\n",
              "      flex-wrap:wrap;\n",
              "      gap: 12px;\n",
              "    }\n",
              "\n",
              "    .colab-df-convert {\n",
              "      background-color: #E8F0FE;\n",
              "      border: none;\n",
              "      border-radius: 50%;\n",
              "      cursor: pointer;\n",
              "      display: none;\n",
              "      fill: #1967D2;\n",
              "      height: 32px;\n",
              "      padding: 0 0 0 0;\n",
              "      width: 32px;\n",
              "    }\n",
              "\n",
              "    .colab-df-convert:hover {\n",
              "      background-color: #E2EBFA;\n",
              "      box-shadow: 0px 1px 2px rgba(60, 64, 67, 0.3), 0px 1px 3px 1px rgba(60, 64, 67, 0.15);\n",
              "      fill: #174EA6;\n",
              "    }\n",
              "\n",
              "    [theme=dark] .colab-df-convert {\n",
              "      background-color: #3B4455;\n",
              "      fill: #D2E3FC;\n",
              "    }\n",
              "\n",
              "    [theme=dark] .colab-df-convert:hover {\n",
              "      background-color: #434B5C;\n",
              "      box-shadow: 0px 1px 3px 1px rgba(0, 0, 0, 0.15);\n",
              "      filter: drop-shadow(0px 1px 2px rgba(0, 0, 0, 0.3));\n",
              "      fill: #FFFFFF;\n",
              "    }\n",
              "  </style>\n",
              "\n",
              "      <script>\n",
              "        const buttonEl =\n",
              "          document.querySelector('#df-3cd7b879-1a0b-4139-89e2-5db6308d0a2f button.colab-df-convert');\n",
              "        buttonEl.style.display =\n",
              "          google.colab.kernel.accessAllowed ? 'block' : 'none';\n",
              "\n",
              "        async function convertToInteractive(key) {\n",
              "          const element = document.querySelector('#df-3cd7b879-1a0b-4139-89e2-5db6308d0a2f');\n",
              "          const dataTable =\n",
              "            await google.colab.kernel.invokeFunction('convertToInteractive',\n",
              "                                                     [key], {});\n",
              "          if (!dataTable) return;\n",
              "\n",
              "          const docLinkHtml = 'Like what you see? Visit the ' +\n",
              "            '<a target=\"_blank\" href=https://colab.research.google.com/notebooks/data_table.ipynb>data table notebook</a>'\n",
              "            + ' to learn more about interactive tables.';\n",
              "          element.innerHTML = '';\n",
              "          dataTable['output_type'] = 'display_data';\n",
              "          await google.colab.output.renderOutput(dataTable, element);\n",
              "          const docLink = document.createElement('div');\n",
              "          docLink.innerHTML = docLinkHtml;\n",
              "          element.appendChild(docLink);\n",
              "        }\n",
              "      </script>\n",
              "    </div>\n",
              "  </div>\n",
              "  "
            ]
          },
          "metadata": {},
          "execution_count": 36
        }
      ]
    },
    {
      "cell_type": "code",
      "source": [
        "hasil.to_csv(\"hasil_prediksi.csv\",index = False)"
      ],
      "metadata": {
        "id": "lbYZY0YIGWTf"
      },
      "execution_count": 37,
      "outputs": []
    },
    {
      "cell_type": "code",
      "source": [
        "df_hasil = pd.read_csv(\"hasil_prediksi.csv\")"
      ],
      "metadata": {
        "id": "rl5FMWE3Gckp"
      },
      "execution_count": 38,
      "outputs": []
    },
    {
      "cell_type": "code",
      "source": [
        "df_hasil.rename(columns={df_hasil.columns[-1]: 'prediksi'}, inplace=True)"
      ],
      "metadata": {
        "id": "9MTrYSsGewCf"
      },
      "execution_count": 39,
      "outputs": []
    },
    {
      "cell_type": "code",
      "source": [
        "plt.bar(df_hasil['prediksi'].unique(), df_hasil['prediksi'].value_counts(), align = 'edge')\n",
        "plt.xticks(df_hasil['prediksi'].unique())\n",
        "plt.xlabel(\"Hasil prediksi\") \n",
        "plt.ylabel(\"Jumlah\") \n",
        "plt.title(\"Grafik hasil prediksi\") \n",
        "plt.show() "
      ],
      "metadata": {
        "id": "qj90IZ9sfao5",
        "colab": {
          "base_uri": "https://localhost:8080/",
          "height": 295
        },
        "outputId": "9da42fff-4350-46ff-bfcf-e4433abe78d8"
      },
      "execution_count": 40,
      "outputs": [
        {
          "output_type": "display_data",
          "data": {
            "text/plain": [
              "<Figure size 432x288 with 1 Axes>"
            ],
            "image/png": "[encoded data removed]"
          },
          "metadata": {
            "needs_background": "light"
          }
        }
      ]
    },
    {
      "cell_type": "code",
      "source": [
        "df_hasil.head()"
      ],
      "metadata": {
        "id": "c4JpC7IVGvdQ",
        "colab": {
          "base_uri": "https://localhost:8080/",
          "height": 317
        },
        "outputId": "353b44cd-2b25-4334-9d1d-5e86ddb297a4"
      },
      "execution_count": 41,
      "outputs": [
        {
          "output_type": "execute_result",
          "data": {
            "text/plain": [
              "   radius_mean  texture_mean  perimeter_mean  area_mean  smoothness_mean  \\\n",
              "0     0.159817     -1.235591        0.257479   0.003444         0.479635   \n",
              "1    -0.271884     -0.146523       -0.246689  -0.342115         1.383436   \n",
              "2    -0.334368     -0.760869       -0.363670  -0.401556         0.294605   \n",
              "3     1.187949     -0.165140        1.096935   1.098139        -0.745834   \n",
              "4     0.284783      2.448156        0.195281   0.183760        -0.936557   \n",
              "\n",
              "   compactness_mean  concavity_mean  concave points_mean  symmetry_mean  \\\n",
              "0          1.502076        0.705598             0.363201       1.001751   \n",
              "1          0.355511        0.424367             0.631459       1.155090   \n",
              "2         -0.472100       -0.342114            -0.392562      -0.297985   \n",
              "3         -0.372605       -0.089257             0.237843      -0.695938   \n",
              "4         -1.104700       -0.526547            -0.555322       0.147430   \n",
              "\n",
              "   fractal_dimension_mean  ...  texture_worst  perimeter_worst  area_worst  \\\n",
              "0                1.596561  ...      -1.194821         0.203699   -0.125485   \n",
              "1                0.704888  ...       0.370108        -0.132881   -0.213029   \n",
              "2                0.269684  ...      -0.935900        -0.549585   -0.518906   \n",
              "3               -1.211713  ...       0.111186         0.951324    0.930669   \n",
              "4               -1.397419  ...       1.829188         0.084556    0.089332   \n",
              "\n",
              "   smoothness_worst  compactness_worst  concavity_worst  concave points_worst  \\\n",
              "0         -0.051226           0.694887         0.238492             -0.057956   \n",
              "1          2.026595           1.032677         1.095810              1.434251   \n",
              "2          0.698367          -0.301944        -0.230706             -0.137134   \n",
              "3         -0.393146          -0.062119         0.391533              0.647036   \n",
              "4         -0.770135          -0.989865        -0.563654             -0.743914   \n",
              "\n",
              "   symmetry_worst  fractal_dimension_worst  prediksi  \n",
              "0       -0.119321                 0.450762         0  \n",
              "1        1.616558                 1.881599         1  \n",
              "2        0.775312                 0.659126         0  \n",
              "3        0.493818                -0.807177         1  \n",
              "4        0.537498                -1.235541         1  \n",
              "\n",
              "[5 rows x 31 columns]"
            ],
            "text/html": [
              "\n",
              "  <div id=\"df-56e79d75-0534-48e5-ad72-4349ad38f930\">\n",
              "    <div class=\"colab-df-container\">\n",
              "      <div>\n",
              "<style scoped>\n",
              "    .dataframe tbody tr th:only-of-type {\n",
              "        vertical-align: middle;\n",
              "    }\n",
              "\n",
              "    .dataframe tbody tr th {\n",
              "        vertical-align: top;\n",
              "    }\n",
              "\n",
              "    .dataframe thead th {\n",
              "        text-align: right;\n",
              "    }\n",
              "</style>\n",
              "<table border=\"1\" class=\"dataframe\">\n",
              "  <thead>\n",
              "    <tr style=\"text-align: right;\">\n",
              "      <th></th>\n",
              "      <th>radius_mean</th>\n",
              "      <th>texture_mean</th>\n",
              "      <th>perimeter_mean</th>\n",
              "      <th>area_mean</th>\n",
              "      <th>smoothness_mean</th>\n",
              "      <th>compactness_mean</th>\n",
              "      <th>concavity_mean</th>\n",
              "      <th>concave points_mean</th>\n",
              "      <th>symmetry_mean</th>\n",
              "      <th>fractal_dimension_mean</th>\n",
              "      <th>...</th>\n",
              "      <th>texture_worst</th>\n",
              "      <th>perimeter_worst</th>\n",
              "      <th>area_worst</th>\n",
              "      <th>smoothness_worst</th>\n",
              "      <th>compactness_worst</th>\n",
              "      <th>concavity_worst</th>\n",
              "      <th>concave points_worst</th>\n",
              "      <th>symmetry_worst</th>\n",
              "      <th>fractal_dimension_worst</th>\n",
              "      <th>prediksi</th>\n",
              "    </tr>\n",
              "  </thead>\n",
              "  <tbody>\n",
              "    <tr>\n",
              "      <th>0</th>\n",
              "      <td>0.159817</td>\n",
              "      <td>-1.235591</td>\n",
              "      <td>0.257479</td>\n",
              "      <td>0.003444</td>\n",
              "      <td>0.479635</td>\n",
              "      <td>1.502076</td>\n",
              "      <td>0.705598</td>\n",
              "      <td>0.363201</td>\n",
              "      <td>1.001751</td>\n",
              "      <td>1.596561</td>\n",
              "      <td>...</td>\n",
              "      <td>-1.194821</td>\n",
              "      <td>0.203699</td>\n",
              "      <td>-0.125485</td>\n",
              "      <td>-0.051226</td>\n",
              "      <td>0.694887</td>\n",
              "      <td>0.238492</td>\n",
              "      <td>-0.057956</td>\n",
              "      <td>-0.119321</td>\n",
              "      <td>0.450762</td>\n",
              "      <td>0</td>\n",
              "    </tr>\n",
              "    <tr>\n",
              "      <th>1</th>\n",
              "      <td>-0.271884</td>\n",
              "      <td>-0.146523</td>\n",
              "      <td>-0.246689</td>\n",
              "      <td>-0.342115</td>\n",
              "      <td>1.383436</td>\n",
              "      <td>0.355511</td>\n",
              "      <td>0.424367</td>\n",
              "      <td>0.631459</td>\n",
              "      <td>1.155090</td>\n",
              "      <td>0.704888</td>\n",
              "      <td>...</td>\n",
              "      <td>0.370108</td>\n",
              "      <td>-0.132881</td>\n",
              "      <td>-0.213029</td>\n",
              "      <td>2.026595</td>\n",
              "      <td>1.032677</td>\n",
              "      <td>1.095810</td>\n",
              "      <td>1.434251</td>\n",
              "      <td>1.616558</td>\n",
              "      <td>1.881599</td>\n",
              "      <td>1</td>\n",
              "    </tr>\n",
              "    <tr>\n",
              "      <th>2</th>\n",
              "      <td>-0.334368</td>\n",
              "      <td>-0.760869</td>\n",
              "      <td>-0.363670</td>\n",
              "      <td>-0.401556</td>\n",
              "      <td>0.294605</td>\n",
              "      <td>-0.472100</td>\n",
              "      <td>-0.342114</td>\n",
              "      <td>-0.392562</td>\n",
              "      <td>-0.297985</td>\n",
              "      <td>0.269684</td>\n",
              "      <td>...</td>\n",
              "      <td>-0.935900</td>\n",
              "      <td>-0.549585</td>\n",
              "      <td>-0.518906</td>\n",
              "      <td>0.698367</td>\n",
              "      <td>-0.301944</td>\n",
              "      <td>-0.230706</td>\n",
              "      <td>-0.137134</td>\n",
              "      <td>0.775312</td>\n",
              "      <td>0.659126</td>\n",
              "      <td>0</td>\n",
              "    </tr>\n",
              "    <tr>\n",
              "      <th>3</th>\n",
              "      <td>1.187949</td>\n",
              "      <td>-0.165140</td>\n",
              "      <td>1.096935</td>\n",
              "      <td>1.098139</td>\n",
              "      <td>-0.745834</td>\n",
              "      <td>-0.372605</td>\n",
              "      <td>-0.089257</td>\n",
              "      <td>0.237843</td>\n",
              "      <td>-0.695938</td>\n",
              "      <td>-1.211713</td>\n",
              "      <td>...</td>\n",
              "      <td>0.111186</td>\n",
              "      <td>0.951324</td>\n",
              "      <td>0.930669</td>\n",
              "      <td>-0.393146</td>\n",
              "      <td>-0.062119</td>\n",
              "      <td>0.391533</td>\n",
              "      <td>0.647036</td>\n",
              "      <td>0.493818</td>\n",
              "      <td>-0.807177</td>\n",
              "      <td>1</td>\n",
              "    </tr>\n",
              "    <tr>\n",
              "      <th>4</th>\n",
              "      <td>0.284783</td>\n",
              "      <td>2.448156</td>\n",
              "      <td>0.195281</td>\n",
              "      <td>0.183760</td>\n",
              "      <td>-0.936557</td>\n",
              "      <td>-1.104700</td>\n",
              "      <td>-0.526547</td>\n",
              "      <td>-0.555322</td>\n",
              "      <td>0.147430</td>\n",
              "      <td>-1.397419</td>\n",
              "      <td>...</td>\n",
              "      <td>1.829188</td>\n",
              "      <td>0.084556</td>\n",
              "      <td>0.089332</td>\n",
              "      <td>-0.770135</td>\n",
              "      <td>-0.989865</td>\n",
              "      <td>-0.563654</td>\n",
              "      <td>-0.743914</td>\n",
              "      <td>0.537498</td>\n",
              "      <td>-1.235541</td>\n",
              "      <td>1</td>\n",
              "    </tr>\n",
              "  </tbody>\n",
              "</table>\n",
              "<p>5 rows × 31 columns</p>\n",
              "</div>\n",
              "      <button class=\"colab-df-convert\" onclick=\"convertToInteractive('df-56e79d75-0534-48e5-ad72-4349ad38f930')\"\n",
              "              title=\"Convert this dataframe to an interactive table.\"\n",
              "              style=\"display:none;\">\n",
              "        \n",
              "  <svg xmlns=\"http://www.w3.org/2000/svg\" height=\"24px\"viewBox=\"0 0 24 24\"\n",
              "       width=\"24px\">\n",
              "    <path d=\"M0 0h24v24H0V0z\" fill=\"none\"/>\n",
              "    <path d=\"M18.56 5.44l.94 2.06.94-2.06 2.06-.94-2.06-.94-.94-2.06-.94 2.06-2.06.94zm-11 1L8.5 8.5l.94-2.06 2.06-.94-2.06-.94L8.5 2.5l-.94 2.06-2.06.94zm10 10l.94 2.06.94-2.06 2.06-.94-2.06-.94-.94-2.06-.94 2.06-2.06.94z\"/><path d=\"M17.41 7.96l-1.37-1.37c-.4-.4-.92-.59-1.43-.59-.52 0-1.04.2-1.43.59L10.3 9.45l-7.72 7.72c-.78.78-.78 2.05 0 2.83L4 21.41c.39.39.9.59 1.41.59.51 0 1.02-.2 1.41-.59l7.78-7.78 2.81-2.81c.8-.78.8-2.07 0-2.86zM5.41 20L4 18.59l7.72-7.72 1.47 1.35L5.41 20z\"/>\n",
              "  </svg>\n",
              "      </button>\n",
              "      \n",
              "  <style>\n",
              "    .colab-df-container {\n",
              "      display:flex;\n",
              "      flex-wrap:wrap;\n",
              "      gap: 12px;\n",
              "    }\n",
              "\n",
              "    .colab-df-convert {\n",
              "      background-color: #E8F0FE;\n",
              "      border: none;\n",
              "      border-radius: 50%;\n",
              "      cursor: pointer;\n",
              "      display: none;\n",
              "      fill: #1967D2;\n",
              "      height: 32px;\n",
              "      padding: 0 0 0 0;\n",
              "      width: 32px;\n",
              "    }\n",
              "\n",
              "    .colab-df-convert:hover {\n",
              "      background-color: #E2EBFA;\n",
              "      box-shadow: 0px 1px 2px rgba(60, 64, 67, 0.3), 0px 1px 3px 1px rgba(60, 64, 67, 0.15);\n",
              "      fill: #174EA6;\n",
              "    }\n",
              "\n",
              "    [theme=dark] .colab-df-convert {\n",
              "      background-color: #3B4455;\n",
              "      fill: #D2E3FC;\n",
              "    }\n",
              "\n",
              "    [theme=dark] .colab-df-convert:hover {\n",
              "      background-color: #434B5C;\n",
              "      box-shadow: 0px 1px 3px 1px rgba(0, 0, 0, 0.15);\n",
              "      filter: drop-shadow(0px 1px 2px rgba(0, 0, 0, 0.3));\n",
              "      fill: #FFFFFF;\n",
              "    }\n",
              "  </style>\n",
              "\n",
              "      <script>\n",
              "        const buttonEl =\n",
              "          document.querySelector('#df-56e79d75-0534-48e5-ad72-4349ad38f930 button.colab-df-convert');\n",
              "        buttonEl.style.display =\n",
              "          google.colab.kernel.accessAllowed ? 'block' : 'none';\n",
              "\n",
              "        async function convertToInteractive(key) {\n",
              "          const element = document.querySelector('#df-56e79d75-0534-48e5-ad72-4349ad38f930');\n",
              "          const dataTable =\n",
              "            await google.colab.kernel.invokeFunction('convertToInteractive',\n",
              "                                                     [key], {});\n",
              "          if (!dataTable) return;\n",
              "\n",
              "          const docLinkHtml = 'Like what you see? Visit the ' +\n",
              "            '<a target=\"_blank\" href=https://colab.research.google.com/notebooks/data_table.ipynb>data table notebook</a>'\n",
              "            + ' to learn more about interactive tables.';\n",
              "          element.innerHTML = '';\n",
              "          dataTable['output_type'] = 'display_data';\n",
              "          await google.colab.output.renderOutput(dataTable, element);\n",
              "          const docLink = document.createElement('div');\n",
              "          docLink.innerHTML = docLinkHtml;\n",
              "          element.appendChild(docLink);\n",
              "        }\n",
              "      </script>\n",
              "    </div>\n",
              "  </div>\n",
              "  "
            ]
          },
          "metadata": {},
          "execution_count": 41
        }
      ]
    },
    {
      "cell_type": "markdown",
      "source": [
        "# Menghitung akurasi ketepatan membagi data "
      ],
      "metadata": {
        "id": "I34YU-rZ1Ujy"
      }
    },
    {
      "cell_type": "markdown",
      "source": [
        "## Model SVM"
      ],
      "metadata": {
        "id": "QmlJPtcd1hPU"
      }
    },
    {
      "cell_type": "code",
      "source": [
        "split = [0.1]\n",
        "list_of_score = []\n",
        "for i in split:\n",
        "    X_train, X_test, y_train, y_test = train_test_split(X, Y, test_size=i)\n",
        "    model = SVC(kernel = 'linear')\n",
        "    model.fit(X_train, y_train)\n",
        "    list_of_score.append(model.score(X_test, y_test))\n",
        "    print(list_of_score)"
      ],
      "metadata": {
        "colab": {
          "base_uri": "https://localhost:8080/"
        },
        "id": "_akmgs0z0Dp9",
        "outputId": "1d8864c0-03be-4f7a-fbdd-18bd8e3e01e0"
      },
      "execution_count": 42,
      "outputs": [
        {
          "output_type": "stream",
          "name": "stdout",
          "text": [
            "[0.9473684210526315]\n"
          ]
        }
      ]
    },
    {
      "cell_type": "code",
      "source": [
        "split = [0.2]\n",
        "list_of_score = []\n",
        "for i in split:\n",
        "    X_train, X_test, y_train, y_test = train_test_split(X, Y, test_size=i)\n",
        "    model = SVC(kernel = 'linear')\n",
        "    model.fit(X_train, y_train)\n",
        "    list_of_score.append(model.score(X_test, y_test))\n",
        "    print(list_of_score)"
      ],
      "metadata": {
        "colab": {
          "base_uri": "https://localhost:8080/"
        },
        "id": "PXpbQmVC0mSj",
        "outputId": "fed8bb86-2980-4a4e-a472-e8c3b4fd80e4"
      },
      "execution_count": 43,
      "outputs": [
        {
          "output_type": "stream",
          "name": "stdout",
          "text": [
            "[0.9736842105263158]\n"
          ]
        }
      ]
    },
    {
      "cell_type": "code",
      "source": [
        "split = [0.3]\n",
        "list_of_score = []\n",
        "for i in split:\n",
        "    X_train, X_test, y_train, y_test = train_test_split(X, Y, test_size=i)\n",
        "    model = SVC(kernel = 'linear')\n",
        "    model.fit(X_train, y_train)\n",
        "    list_of_score.append(model.score(X_test, y_test))\n",
        "    print(list_of_score)"
      ],
      "metadata": {
        "colab": {
          "base_uri": "https://localhost:8080/"
        },
        "id": "mUMh-ARq0o05",
        "outputId": "edd3bd63-0db9-4c18-8bc1-9acf7ffc1ae3"
      },
      "execution_count": 44,
      "outputs": [
        {
          "output_type": "stream",
          "name": "stdout",
          "text": [
            "[0.9707602339181286]\n"
          ]
        }
      ]
    },
    {
      "cell_type": "code",
      "source": [
        "split = [0.4]\n",
        "list_of_score = []\n",
        "for i in split:\n",
        "    X_train, X_test, y_train, y_test = train_test_split(X, Y, test_size=i)\n",
        "    model = SVC(kernel = 'linear')\n",
        "    model.fit(X_train, y_train)\n",
        "    list_of_score.append(model.score(X_test, y_test))\n",
        "    print(list_of_score)"
      ],
      "metadata": {
        "colab": {
          "base_uri": "https://localhost:8080/"
        },
        "id": "1i-Ua-kf0rHj",
        "outputId": "001ad86f-f4e2-4ddc-e15a-14fefb1d19d1"
      },
      "execution_count": 45,
      "outputs": [
        {
          "output_type": "stream",
          "name": "stdout",
          "text": [
            "[0.9649122807017544]\n"
          ]
        }
      ]
    },
    {
      "cell_type": "markdown",
      "source": [
        "## Model Naive Bayes"
      ],
      "metadata": {
        "id": "KBc6iQD_1kzL"
      }
    },
    {
      "cell_type": "code",
      "source": [
        "split = [0.1]\n",
        "list_of_score = []\n",
        "for i in split:\n",
        "    X_train, X_test, y_train, y_test = train_test_split(X, Y, test_size=i)\n",
        "    model = GaussianNB()\n",
        "    model.fit(X_train, y_train)\n",
        "    list_of_score.append(model.score(X_test, y_test))\n",
        "    print(list_of_score)"
      ],
      "metadata": {
        "colab": {
          "base_uri": "https://localhost:8080/"
        },
        "id": "oGVhf3RF057R",
        "outputId": "4427ed6a-e15d-4a50-907f-dc309c084aac"
      },
      "execution_count": 46,
      "outputs": [
        {
          "output_type": "stream",
          "name": "stdout",
          "text": [
            "[0.8947368421052632]\n"
          ]
        }
      ]
    },
    {
      "cell_type": "code",
      "source": [
        "split = [0.2]\n",
        "list_of_score = []\n",
        "for i in split:\n",
        "    X_train, X_test, y_train, y_test = train_test_split(X, Y, test_size=i)\n",
        "    model = GaussianNB()\n",
        "    model.fit(X_train, y_train)\n",
        "    list_of_score.append(model.score(X_test, y_test))\n",
        "    print(list_of_score)"
      ],
      "metadata": {
        "colab": {
          "base_uri": "https://localhost:8080/"
        },
        "id": "Eivp9lRx16LW",
        "outputId": "ba8b6462-91ed-4a95-bb32-7a29e58a9da3"
      },
      "execution_count": 47,
      "outputs": [
        {
          "output_type": "stream",
          "name": "stdout",
          "text": [
            "[0.9298245614035088]\n"
          ]
        }
      ]
    },
    {
      "cell_type": "code",
      "source": [
        "split = [0.3]\n",
        "list_of_score = []\n",
        "for i in split:\n",
        "    X_train, X_test, y_train, y_test = train_test_split(X, Y, test_size=i)\n",
        "    model = GaussianNB()\n",
        "    model.fit(X_train, y_train)\n",
        "    list_of_score.append(model.score(X_test, y_test))\n",
        "    print(list_of_score)"
      ],
      "metadata": {
        "colab": {
          "base_uri": "https://localhost:8080/"
        },
        "id": "18YWlbqX1_7b",
        "outputId": "99c9f92b-e380-4787-e582-61ceba9588df"
      },
      "execution_count": 48,
      "outputs": [
        {
          "output_type": "stream",
          "name": "stdout",
          "text": [
            "[0.9181286549707602]\n"
          ]
        }
      ]
    },
    {
      "cell_type": "code",
      "source": [
        "split = [0.4]\n",
        "list_of_score = []\n",
        "for i in split:\n",
        "    X_train, X_test, y_train, y_test = train_test_split(X, Y, test_size=i)\n",
        "    model = GaussianNB()\n",
        "    model.fit(X_train, y_train)\n",
        "    list_of_score.append(model.score(X_test, y_test))\n",
        "    print(list_of_score)"
      ],
      "metadata": {
        "colab": {
          "base_uri": "https://localhost:8080/"
        },
        "id": "MaN53mc32BrM",
        "outputId": "4599c376-24f6-4b17-d01c-bd9522369b92"
      },
      "execution_count": 49,
      "outputs": [
        {
          "output_type": "stream",
          "name": "stdout",
          "text": [
            "[0.9298245614035088]\n"
          ]
        }
      ]
    }
  ]
}